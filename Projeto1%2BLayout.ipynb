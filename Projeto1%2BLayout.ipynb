{
 "cells": [
  {
   "cell_type": "markdown",
   "metadata": {},
   "source": [
    "___\n",
    "# Ciência dos Dados - PROJETO 1"
   ]
  },
  {
   "cell_type": "markdown",
   "metadata": {},
   "source": [
    "## Lúcia Coelho Richardson"
   ]
  },
  {
   "cell_type": "markdown",
   "metadata": {},
   "source": [
    "### Projeto 1"
   ]
  },
  {
   "cell_type": "markdown",
   "metadata": {},
   "source": [
    "___\n",
    "## Introdução\n",
    "Por meio do meu trabalho eu viso analisar como as diversas faixas salariais influenciam na escolha pelo acesso a internet e consequentemente as taxas de conectividade(variável que caracteriza o quanto a população das regiões estão conectadas, demonstrando por meio das tabelas e gráficos qual é a escolha da ou das mais viáveis economicamente e de maneira prática a cada região). Além de como o salário tem importancia crucial nesse aspecto.\n"
   ]
  },
  {
   "cell_type": "markdown",
   "metadata": {},
   "source": [
    "___\n",
    "## Análise e Resultados - 2015"
   ]
  },
  {
   "cell_type": "code",
   "execution_count": 1,
   "metadata": {
    "collapsed": true
   },
   "outputs": [],
   "source": [
    "%matplotlib inline\n",
    "import pandas as pd\n",
    "import matplotlib.pyplot as plt\n",
    "import numpy as np\n",
    "import os\n",
    "import matplotlib\n",
    "matplotlib.style.use('ggplot')\n",
    "from numpy import zeros_like"
   ]
  },
  {
   "cell_type": "code",
   "execution_count": 2,
   "metadata": {
    "collapsed": false
   },
   "outputs": [
    {
     "name": "stdout",
     "output_type": "stream",
     "text": [
      "Esperamos trabalhar no diretório\n",
      "C:\\Users\\User\\Music\\Ciencia-dos-Dados-2017.2\\CD17\\Projeto1\n"
     ]
    }
   ],
   "source": [
    "print('Esperamos trabalhar no diretório')\n",
    "print(os.getcwd())"
   ]
  },
  {
   "cell_type": "code",
   "execution_count": 3,
   "metadata": {
    "collapsed": false
   },
   "outputs": [],
   "source": [
    "#Se usar o arquivo descompactado\n",
    "dados = pd.read_csv('DOM2015.csv',sep=',')\n",
    "#conexao apenas 3g4g é mais escolhida em faixas de salario menor se comparado a banda larga, que é muito alta e relevante\n",
    "#as faixas salariais mais elevadas"
   ]
  },
  {
   "cell_type": "code",
   "execution_count": 4,
   "metadata": {
    "collapsed": false
   },
   "outputs": [],
   "source": [
    "#escolhendo as variaveis na base de dados e retirada dos nulos\n",
    "escolha_var = dados.loc[:,[\"UF\",\"V02324\",\"V4622\", \"V02424\", \"V02425\", \"V02426\", \"V4621\"]] \n",
    "\n",
    "dados_nao_nulos = escolha_var[pd.notnull(escolha_var.V02324)]\n",
    "dados_nao_nulos = dados_nao_nulos[pd.notnull(dados_nao_nulos.V4622)]\n",
    "dados_nao_nulos = dados_nao_nulos[pd.notnull(dados_nao_nulos.V02324)]\n",
    "dados_nao_nulos= dados_nao_nulos[dados_nao_nulos.V4621!=999999999999.0]\n",
    "\n",
    "dados = dados_nao_nulos"
   ]
  },
  {
   "cell_type": "code",
   "execution_count": null,
   "metadata": {
    "collapsed": true
   },
   "outputs": [],
   "source": []
  },
  {
   "cell_type": "markdown",
   "metadata": {},
   "source": [
    "___\n",
    "## Desenvolvimento\n",
    "\n",
    "Nessa etapa do projeto foi onde realizei a:\n",
    "\n",
    "-A organização de todas minhas variáveis de interesse \n",
    "\n",
    "-Separacao em relação ao nivel de conectividade, para que por meio das informações obtidas fosse possível avaliar, e até comparar as regiões do Brasil e seu acesso/ utilização de cada um dos \"meios\" de acesso a internet, e a interligação entre elas. Os quais são:\n",
    "\n",
    "Discada, que indica uma baixa conexão devido ser um método antiquadro e não tão vantajoso de acesso a internet.\n",
    "\n",
    "Banda Larga, que indica uma média conexão, devido ser um método ainda muito utilizado de acesso a internet, porém limitado se comparado ao 3G e 4G, por não ser uma tecnologia móvel, por exemplo.\n",
    "\n",
    "3G, 4G: que indica uma média razoável, devido ser é a terceira geração da tecnologia que permite acessar a internet com o celular e se caracterizar como uma tecnologia móvel. \n",
    "\n",
    "E a partir da associação dessas, estabelece-se maiores níveis de conectividade que seriam tais juntas. Uma vez que a boa conexao seria uma união entre a banda larga e discada, uma ótima conexão seria a união entre a internet discada e o 3g/4g. Somado a isso, o tipo de conexão excelente seria a associação entre a internet 3g/4g e a banda larga. E por último o tipo de conexão excepcional seria a associação entre todos os tipos citados anteriormente. \n",
    "\n",
    "-A divisão dos estados conforme as regiões para conseguir ter diferentes análises gráficas interessantes\n",
    "\n",
    "-A divisão conforme renda das faixas salariais, também analisadas\n"
   ]
  },
  {
   "cell_type": "code",
   "execution_count": 5,
   "metadata": {
    "collapsed": false
   },
   "outputs": [],
   "source": [
    "#divisao em estados para melhor organizacao e chegar ao meu objetivo no projeto\n",
    "dados.UF = dados.UF.astype(\"int\")\n",
    "dados.loc[dados.UF >=50, \"Regiao\"] = \"Centro-Oeste\"\n",
    "dados.loc[(dados.UF >= 41) & (dados.UF <= 43), \"Regiao\"] = \"Sul\"\n",
    "dados.loc[(dados.UF >= 31) & (dados.UF <= 35), \"Regiao\"] = \"Sudeste\"\n",
    "dados.loc[(dados.UF >= 11) & (dados.UF <= 17), \"Regiao\"] = \"Norte\"\n",
    "dados.loc[(dados.UF >= 21) & (dados.UF <= 29), \"Regiao\"] = \"Nordeste\""
   ]
  },
  {
   "cell_type": "code",
   "execution_count": 6,
   "metadata": {
    "collapsed": false
   },
   "outputs": [],
   "source": [
    "dados.loc[dados.V02425 == 2, \"Conectividade\"] = \"Baixa conexao (Discada)\" #só discada\n",
    "dados.loc[dados.V02426 == 2, \"Conectividade\"] = \"Media conexao (Banda Larga)\" #só banda larga\n",
    "dados.loc[dados.V02424 == 2, \"Conectividade\"] = \"Razoavel conexao (3G e 4G)\" # só 3g4g\n",
    "dados.loc[(dados.V02425 == 2)&(dados.V02426 == 2), \"Conectividade\"] = \"Boa conexao (Banda larga e discada)\" \n",
    "dados.loc[(dados.V02425 == 2)&(dados.V02424 == 2), \"Conectividade\"] = \"Otima conexao (Discada e 3g4g)\"\n",
    "dados.loc[(dados.V02426 == 2)&(dados.V02424 == 2), \"Conectividade\"] = \"Excelente conexao (3g4g e banda larga)\"\n",
    "dados.loc[(dados.V02426 == 2)&(dados.V02425 == 2)& (dados.V02424 == 2), \"Conectividade\"] = \"Excepcional conexao (todas)\" #todas"
   ]
  },
  {
   "cell_type": "code",
   "execution_count": 7,
   "metadata": {
    "collapsed": false
   },
   "outputs": [],
   "source": [
    "#renomeando as categorias para facilitar na analise dos dados\n",
    "#renomeando as \"linhas\"\n",
    "dados_nao_nulos.UF = dados.UF.astype('category')\n",
    "dados_nao_nulos.UF.cat.categories= (['Rondônia', 'Acre','Amazonas', 'Roraima','Pará', 'Amapá','Tocantis', 'Maranhão','Piauí', 'Ceará','Rio Grande do Norte', 'Paraíba','Pernambuco', 'Alagoas','Sergipe', 'Bahia','Minas Gerais', 'Espírito Santo','Rio de Janeiro', 'São Paulo','Paraná', 'Santa Catarina','Rio Grande do Sul', 'Mato Grosso do Sul','Mato Grosso', 'Goiás' , 'Distrito Federal'])\n",
    "dados.V02324 = dados.V02324.astype('category')\n",
    "dados.V02324.cat.categories=[\"Sim\", \"Não\"]\n",
    "dados.V02424 = dados.V02424.astype('category')\n",
    "dados.V02424.cat.categories=[\"Sim\", \"Não\"]\n",
    "dados.V02425 = dados.V02425.astype('category')\n",
    "dados.V02425.cat.categories=[\"Sim\", \"Não\"]\n",
    "dados.V02426 = dados.V02426.astype('category')\n",
    "dados.V02426.cat.categories=[\"Sim\", \"Não\"]\n",
    "dados.V4622 = dados.V4622.astype('category')\n",
    "#dados.V4622\n",
    "dados.V4622.cat.categories=[\"sem rendimento\",\"1/4 do salario minimo\", \"entre 1/2 e 1/4 do salario minimo\", \"mais de 1/2 salario minimo\", \"entre 1 e 2 salarios minimos\", \"entre 2 e 3 salarios minimos\", \"entre 3 e 5 salarios minimos\", \"mais de 5 salarios minimos\"]\n"
   ]
  },
  {
   "cell_type": "code",
   "execution_count": 8,
   "metadata": {
    "collapsed": false
   },
   "outputs": [
    {
     "data": {
      "text/html": [
       "<div>\n",
       "<table border=\"1\" class=\"dataframe\">\n",
       "  <thead>\n",
       "    <tr style=\"text-align: right;\">\n",
       "      <th></th>\n",
       "      <th>Estados</th>\n",
       "      <th>Acesso a internet via celular</th>\n",
       "      <th>Salario</th>\n",
       "      <th>Internet via 3G e 4G</th>\n",
       "      <th>Internet via conexao discada</th>\n",
       "      <th>Internet via banda larga</th>\n",
       "      <th>Renda</th>\n",
       "      <th>Regiao</th>\n",
       "      <th>Conectividade</th>\n",
       "    </tr>\n",
       "  </thead>\n",
       "  <tbody>\n",
       "    <tr>\n",
       "      <th>2</th>\n",
       "      <td>Rondônia</td>\n",
       "      <td>Não</td>\n",
       "      <td>entre 1 e 2 salarios minimos</td>\n",
       "      <td>Sim</td>\n",
       "      <td>Não</td>\n",
       "      <td>Sim</td>\n",
       "      <td>1150.0</td>\n",
       "      <td>Norte</td>\n",
       "      <td>Excelente conexao (3g4g e banda larga)</td>\n",
       "    </tr>\n",
       "    <tr>\n",
       "      <th>3</th>\n",
       "      <td>Rondônia</td>\n",
       "      <td>Sim</td>\n",
       "      <td>entre 1 e 2 salarios minimos</td>\n",
       "      <td>Sim</td>\n",
       "      <td>Não</td>\n",
       "      <td>Sim</td>\n",
       "      <td>793.0</td>\n",
       "      <td>Norte</td>\n",
       "      <td>Excelente conexao (3g4g e banda larga)</td>\n",
       "    </tr>\n",
       "    <tr>\n",
       "      <th>5</th>\n",
       "      <td>Rondônia</td>\n",
       "      <td>Não</td>\n",
       "      <td>entre 2 e 3 salarios minimos</td>\n",
       "      <td>Não</td>\n",
       "      <td>Não</td>\n",
       "      <td>Sim</td>\n",
       "      <td>1990.0</td>\n",
       "      <td>Norte</td>\n",
       "      <td>Media conexao (Banda Larga)</td>\n",
       "    </tr>\n",
       "    <tr>\n",
       "      <th>8</th>\n",
       "      <td>Rondônia</td>\n",
       "      <td>Sim</td>\n",
       "      <td>entre 1 e 2 salarios minimos</td>\n",
       "      <td>Sim</td>\n",
       "      <td>Não</td>\n",
       "      <td>Sim</td>\n",
       "      <td>818.0</td>\n",
       "      <td>Norte</td>\n",
       "      <td>Excelente conexao (3g4g e banda larga)</td>\n",
       "    </tr>\n",
       "    <tr>\n",
       "      <th>10</th>\n",
       "      <td>Rondônia</td>\n",
       "      <td>Sim</td>\n",
       "      <td>entre 2 e 3 salarios minimos</td>\n",
       "      <td>Sim</td>\n",
       "      <td>Não</td>\n",
       "      <td>Sim</td>\n",
       "      <td>1716.0</td>\n",
       "      <td>Norte</td>\n",
       "      <td>Excelente conexao (3g4g e banda larga)</td>\n",
       "    </tr>\n",
       "    <tr>\n",
       "      <th>11</th>\n",
       "      <td>Rondônia</td>\n",
       "      <td>Sim</td>\n",
       "      <td>entre 3 e 5 salarios minimos</td>\n",
       "      <td>Sim</td>\n",
       "      <td>Não</td>\n",
       "      <td>Sim</td>\n",
       "      <td>2500.0</td>\n",
       "      <td>Norte</td>\n",
       "      <td>Excelente conexao (3g4g e banda larga)</td>\n",
       "    </tr>\n",
       "    <tr>\n",
       "      <th>13</th>\n",
       "      <td>Rondônia</td>\n",
       "      <td>Sim</td>\n",
       "      <td>entre 1 e 2 salarios minimos</td>\n",
       "      <td>Sim</td>\n",
       "      <td>Não</td>\n",
       "      <td>Sim</td>\n",
       "      <td>1400.0</td>\n",
       "      <td>Norte</td>\n",
       "      <td>Excelente conexao (3g4g e banda larga)</td>\n",
       "    </tr>\n",
       "    <tr>\n",
       "      <th>15</th>\n",
       "      <td>Rondônia</td>\n",
       "      <td>Sim</td>\n",
       "      <td>mais de 1/2 salario minimo</td>\n",
       "      <td>Sim</td>\n",
       "      <td>Não</td>\n",
       "      <td>Sim</td>\n",
       "      <td>666.0</td>\n",
       "      <td>Norte</td>\n",
       "      <td>Excelente conexao (3g4g e banda larga)</td>\n",
       "    </tr>\n",
       "    <tr>\n",
       "      <th>17</th>\n",
       "      <td>Rondônia</td>\n",
       "      <td>Sim</td>\n",
       "      <td>mais de 1/2 salario minimo</td>\n",
       "      <td>Não</td>\n",
       "      <td>Não</td>\n",
       "      <td>Sim</td>\n",
       "      <td>750.0</td>\n",
       "      <td>Norte</td>\n",
       "      <td>Media conexao (Banda Larga)</td>\n",
       "    </tr>\n",
       "    <tr>\n",
       "      <th>18</th>\n",
       "      <td>Rondônia</td>\n",
       "      <td>Sim</td>\n",
       "      <td>entre 1 e 2 salarios minimos</td>\n",
       "      <td>Não</td>\n",
       "      <td>Não</td>\n",
       "      <td>Sim</td>\n",
       "      <td>1437.0</td>\n",
       "      <td>Norte</td>\n",
       "      <td>Media conexao (Banda Larga)</td>\n",
       "    </tr>\n",
       "    <tr>\n",
       "      <th>19</th>\n",
       "      <td>Rondônia</td>\n",
       "      <td>Não</td>\n",
       "      <td>mais de 1/2 salario minimo</td>\n",
       "      <td>Não</td>\n",
       "      <td>Sim</td>\n",
       "      <td>Não</td>\n",
       "      <td>600.0</td>\n",
       "      <td>Norte</td>\n",
       "      <td>Baixa conexao (Discada)</td>\n",
       "    </tr>\n",
       "    <tr>\n",
       "      <th>20</th>\n",
       "      <td>Rondônia</td>\n",
       "      <td>Sim</td>\n",
       "      <td>entre 1 e 2 salarios minimos</td>\n",
       "      <td>Não</td>\n",
       "      <td>Não</td>\n",
       "      <td>Sim</td>\n",
       "      <td>933.0</td>\n",
       "      <td>Norte</td>\n",
       "      <td>Media conexao (Banda Larga)</td>\n",
       "    </tr>\n",
       "    <tr>\n",
       "      <th>23</th>\n",
       "      <td>Rondônia</td>\n",
       "      <td>Sim</td>\n",
       "      <td>entre 3 e 5 salarios minimos</td>\n",
       "      <td>Não</td>\n",
       "      <td>Não</td>\n",
       "      <td>Sim</td>\n",
       "      <td>2666.0</td>\n",
       "      <td>Norte</td>\n",
       "      <td>Media conexao (Banda Larga)</td>\n",
       "    </tr>\n",
       "    <tr>\n",
       "      <th>27</th>\n",
       "      <td>Rondônia</td>\n",
       "      <td>Sim</td>\n",
       "      <td>entre 3 e 5 salarios minimos</td>\n",
       "      <td>Não</td>\n",
       "      <td>Não</td>\n",
       "      <td>Sim</td>\n",
       "      <td>3325.0</td>\n",
       "      <td>Norte</td>\n",
       "      <td>Media conexao (Banda Larga)</td>\n",
       "    </tr>\n",
       "    <tr>\n",
       "      <th>28</th>\n",
       "      <td>Rondônia</td>\n",
       "      <td>Sim</td>\n",
       "      <td>entre 3 e 5 salarios minimos</td>\n",
       "      <td>Não</td>\n",
       "      <td>Sim</td>\n",
       "      <td>Sim</td>\n",
       "      <td>3500.0</td>\n",
       "      <td>Norte</td>\n",
       "      <td>Boa conexao (Banda larga e discada)</td>\n",
       "    </tr>\n",
       "    <tr>\n",
       "      <th>29</th>\n",
       "      <td>Rondônia</td>\n",
       "      <td>Sim</td>\n",
       "      <td>entre 1 e 2 salarios minimos</td>\n",
       "      <td>Não</td>\n",
       "      <td>Não</td>\n",
       "      <td>Sim</td>\n",
       "      <td>1172.0</td>\n",
       "      <td>Norte</td>\n",
       "      <td>Media conexao (Banda Larga)</td>\n",
       "    </tr>\n",
       "    <tr>\n",
       "      <th>31</th>\n",
       "      <td>Rondônia</td>\n",
       "      <td>Sim</td>\n",
       "      <td>entre 3 e 5 salarios minimos</td>\n",
       "      <td>Não</td>\n",
       "      <td>Não</td>\n",
       "      <td>Sim</td>\n",
       "      <td>3000.0</td>\n",
       "      <td>Norte</td>\n",
       "      <td>Media conexao (Banda Larga)</td>\n",
       "    </tr>\n",
       "    <tr>\n",
       "      <th>32</th>\n",
       "      <td>Rondônia</td>\n",
       "      <td>Não</td>\n",
       "      <td>entre 1/2 e 1/4 do salario minimo</td>\n",
       "      <td>Não</td>\n",
       "      <td>Sim</td>\n",
       "      <td>Não</td>\n",
       "      <td>366.0</td>\n",
       "      <td>Norte</td>\n",
       "      <td>Baixa conexao (Discada)</td>\n",
       "    </tr>\n",
       "    <tr>\n",
       "      <th>33</th>\n",
       "      <td>Rondônia</td>\n",
       "      <td>Não</td>\n",
       "      <td>1/4 do salario minimo</td>\n",
       "      <td>Não</td>\n",
       "      <td>Sim</td>\n",
       "      <td>Não</td>\n",
       "      <td>175.0</td>\n",
       "      <td>Norte</td>\n",
       "      <td>Baixa conexao (Discada)</td>\n",
       "    </tr>\n",
       "    <tr>\n",
       "      <th>37</th>\n",
       "      <td>Rondônia</td>\n",
       "      <td>Sim</td>\n",
       "      <td>mais de 1/2 salario minimo</td>\n",
       "      <td>Sim</td>\n",
       "      <td>Sim</td>\n",
       "      <td>Não</td>\n",
       "      <td>596.0</td>\n",
       "      <td>Norte</td>\n",
       "      <td>Otima conexao (Discada e 3g4g)</td>\n",
       "    </tr>\n",
       "    <tr>\n",
       "      <th>39</th>\n",
       "      <td>Rondônia</td>\n",
       "      <td>Sim</td>\n",
       "      <td>1/4 do salario minimo</td>\n",
       "      <td>Sim</td>\n",
       "      <td>Sim</td>\n",
       "      <td>Não</td>\n",
       "      <td>196.0</td>\n",
       "      <td>Norte</td>\n",
       "      <td>Otima conexao (Discada e 3g4g)</td>\n",
       "    </tr>\n",
       "    <tr>\n",
       "      <th>42</th>\n",
       "      <td>Rondônia</td>\n",
       "      <td>Não</td>\n",
       "      <td>entre 1 e 2 salarios minimos</td>\n",
       "      <td>Não</td>\n",
       "      <td>Sim</td>\n",
       "      <td>Não</td>\n",
       "      <td>975.0</td>\n",
       "      <td>Norte</td>\n",
       "      <td>Baixa conexao (Discada)</td>\n",
       "    </tr>\n",
       "    <tr>\n",
       "      <th>43</th>\n",
       "      <td>Rondônia</td>\n",
       "      <td>Não</td>\n",
       "      <td>entre 1 e 2 salarios minimos</td>\n",
       "      <td>Não</td>\n",
       "      <td>Sim</td>\n",
       "      <td>Não</td>\n",
       "      <td>850.0</td>\n",
       "      <td>Norte</td>\n",
       "      <td>Baixa conexao (Discada)</td>\n",
       "    </tr>\n",
       "    <tr>\n",
       "      <th>44</th>\n",
       "      <td>Rondônia</td>\n",
       "      <td>Sim</td>\n",
       "      <td>entre 2 e 3 salarios minimos</td>\n",
       "      <td>Sim</td>\n",
       "      <td>Sim</td>\n",
       "      <td>Não</td>\n",
       "      <td>2000.0</td>\n",
       "      <td>Norte</td>\n",
       "      <td>Otima conexao (Discada e 3g4g)</td>\n",
       "    </tr>\n",
       "    <tr>\n",
       "      <th>45</th>\n",
       "      <td>Rondônia</td>\n",
       "      <td>Não</td>\n",
       "      <td>mais de 1/2 salario minimo</td>\n",
       "      <td>Não</td>\n",
       "      <td>Sim</td>\n",
       "      <td>Não</td>\n",
       "      <td>480.0</td>\n",
       "      <td>Norte</td>\n",
       "      <td>Baixa conexao (Discada)</td>\n",
       "    </tr>\n",
       "    <tr>\n",
       "      <th>50</th>\n",
       "      <td>Rondônia</td>\n",
       "      <td>Sim</td>\n",
       "      <td>mais de 1/2 salario minimo</td>\n",
       "      <td>Sim</td>\n",
       "      <td>Sim</td>\n",
       "      <td>Não</td>\n",
       "      <td>666.0</td>\n",
       "      <td>Norte</td>\n",
       "      <td>Otima conexao (Discada e 3g4g)</td>\n",
       "    </tr>\n",
       "    <tr>\n",
       "      <th>54</th>\n",
       "      <td>Rondônia</td>\n",
       "      <td>Sim</td>\n",
       "      <td>entre 2 e 3 salarios minimos</td>\n",
       "      <td>Sim</td>\n",
       "      <td>Não</td>\n",
       "      <td>Não</td>\n",
       "      <td>2100.0</td>\n",
       "      <td>Norte</td>\n",
       "      <td>Razoavel conexao (3G e 4G)</td>\n",
       "    </tr>\n",
       "    <tr>\n",
       "      <th>66</th>\n",
       "      <td>Rondônia</td>\n",
       "      <td>Sim</td>\n",
       "      <td>mais de 1/2 salario minimo</td>\n",
       "      <td>Sim</td>\n",
       "      <td>Não</td>\n",
       "      <td>Não</td>\n",
       "      <td>635.0</td>\n",
       "      <td>Norte</td>\n",
       "      <td>Razoavel conexao (3G e 4G)</td>\n",
       "    </tr>\n",
       "    <tr>\n",
       "      <th>71</th>\n",
       "      <td>Rondônia</td>\n",
       "      <td>Sim</td>\n",
       "      <td>mais de 1/2 salario minimo</td>\n",
       "      <td>Não</td>\n",
       "      <td>Não</td>\n",
       "      <td>Sim</td>\n",
       "      <td>550.0</td>\n",
       "      <td>Norte</td>\n",
       "      <td>Media conexao (Banda Larga)</td>\n",
       "    </tr>\n",
       "    <tr>\n",
       "      <th>72</th>\n",
       "      <td>Rondônia</td>\n",
       "      <td>Sim</td>\n",
       "      <td>mais de 1/2 salario minimo</td>\n",
       "      <td>Sim</td>\n",
       "      <td>Não</td>\n",
       "      <td>Não</td>\n",
       "      <td>590.0</td>\n",
       "      <td>Norte</td>\n",
       "      <td>Razoavel conexao (3G e 4G)</td>\n",
       "    </tr>\n",
       "    <tr>\n",
       "      <th>...</th>\n",
       "      <td>...</td>\n",
       "      <td>...</td>\n",
       "      <td>...</td>\n",
       "      <td>...</td>\n",
       "      <td>...</td>\n",
       "      <td>...</td>\n",
       "      <td>...</td>\n",
       "      <td>...</td>\n",
       "      <td>...</td>\n",
       "    </tr>\n",
       "    <tr>\n",
       "      <th>151134</th>\n",
       "      <td>Distrito Federal</td>\n",
       "      <td>Sim</td>\n",
       "      <td>mais de 1/2 salario minimo</td>\n",
       "      <td>Sim</td>\n",
       "      <td>Sim</td>\n",
       "      <td>Não</td>\n",
       "      <td>571.0</td>\n",
       "      <td>Centro-Oeste</td>\n",
       "      <td>Otima conexao (Discada e 3g4g)</td>\n",
       "    </tr>\n",
       "    <tr>\n",
       "      <th>151135</th>\n",
       "      <td>Distrito Federal</td>\n",
       "      <td>Sim</td>\n",
       "      <td>mais de 1/2 salario minimo</td>\n",
       "      <td>Sim</td>\n",
       "      <td>Não</td>\n",
       "      <td>Sim</td>\n",
       "      <td>416.0</td>\n",
       "      <td>Centro-Oeste</td>\n",
       "      <td>Excelente conexao (3g4g e banda larga)</td>\n",
       "    </tr>\n",
       "    <tr>\n",
       "      <th>151139</th>\n",
       "      <td>Distrito Federal</td>\n",
       "      <td>Sim</td>\n",
       "      <td>entre 1/2 e 1/4 do salario minimo</td>\n",
       "      <td>Sim</td>\n",
       "      <td>Não</td>\n",
       "      <td>Sim</td>\n",
       "      <td>394.0</td>\n",
       "      <td>Centro-Oeste</td>\n",
       "      <td>Excelente conexao (3g4g e banda larga)</td>\n",
       "    </tr>\n",
       "    <tr>\n",
       "      <th>151140</th>\n",
       "      <td>Distrito Federal</td>\n",
       "      <td>Sim</td>\n",
       "      <td>mais de 1/2 salario minimo</td>\n",
       "      <td>Sim</td>\n",
       "      <td>Não</td>\n",
       "      <td>Sim</td>\n",
       "      <td>525.0</td>\n",
       "      <td>Centro-Oeste</td>\n",
       "      <td>Excelente conexao (3g4g e banda larga)</td>\n",
       "    </tr>\n",
       "    <tr>\n",
       "      <th>151142</th>\n",
       "      <td>Distrito Federal</td>\n",
       "      <td>Sim</td>\n",
       "      <td>mais de 1/2 salario minimo</td>\n",
       "      <td>Sim</td>\n",
       "      <td>Não</td>\n",
       "      <td>Não</td>\n",
       "      <td>452.0</td>\n",
       "      <td>Centro-Oeste</td>\n",
       "      <td>Razoavel conexao (3G e 4G)</td>\n",
       "    </tr>\n",
       "    <tr>\n",
       "      <th>151143</th>\n",
       "      <td>Distrito Federal</td>\n",
       "      <td>Sim</td>\n",
       "      <td>entre 3 e 5 salarios minimos</td>\n",
       "      <td>Sim</td>\n",
       "      <td>Não</td>\n",
       "      <td>Sim</td>\n",
       "      <td>2527.0</td>\n",
       "      <td>Centro-Oeste</td>\n",
       "      <td>Excelente conexao (3g4g e banda larga)</td>\n",
       "    </tr>\n",
       "    <tr>\n",
       "      <th>151144</th>\n",
       "      <td>Distrito Federal</td>\n",
       "      <td>Sim</td>\n",
       "      <td>entre 3 e 5 salarios minimos</td>\n",
       "      <td>Sim</td>\n",
       "      <td>Não</td>\n",
       "      <td>Sim</td>\n",
       "      <td>2500.0</td>\n",
       "      <td>Centro-Oeste</td>\n",
       "      <td>Excelente conexao (3g4g e banda larga)</td>\n",
       "    </tr>\n",
       "    <tr>\n",
       "      <th>151146</th>\n",
       "      <td>Distrito Federal</td>\n",
       "      <td>Sim</td>\n",
       "      <td>entre 1 e 2 salarios minimos</td>\n",
       "      <td>Sim</td>\n",
       "      <td>Não</td>\n",
       "      <td>Não</td>\n",
       "      <td>950.0</td>\n",
       "      <td>Centro-Oeste</td>\n",
       "      <td>Razoavel conexao (3G e 4G)</td>\n",
       "    </tr>\n",
       "    <tr>\n",
       "      <th>151147</th>\n",
       "      <td>Distrito Federal</td>\n",
       "      <td>Não</td>\n",
       "      <td>entre 1 e 2 salarios minimos</td>\n",
       "      <td>Não</td>\n",
       "      <td>Não</td>\n",
       "      <td>Sim</td>\n",
       "      <td>1109.0</td>\n",
       "      <td>Centro-Oeste</td>\n",
       "      <td>Media conexao (Banda Larga)</td>\n",
       "    </tr>\n",
       "    <tr>\n",
       "      <th>151148</th>\n",
       "      <td>Distrito Federal</td>\n",
       "      <td>Sim</td>\n",
       "      <td>entre 1/2 e 1/4 do salario minimo</td>\n",
       "      <td>Sim</td>\n",
       "      <td>Não</td>\n",
       "      <td>Não</td>\n",
       "      <td>283.0</td>\n",
       "      <td>Centro-Oeste</td>\n",
       "      <td>Razoavel conexao (3G e 4G)</td>\n",
       "    </tr>\n",
       "    <tr>\n",
       "      <th>151150</th>\n",
       "      <td>Distrito Federal</td>\n",
       "      <td>Sim</td>\n",
       "      <td>entre 1 e 2 salarios minimos</td>\n",
       "      <td>Sim</td>\n",
       "      <td>Não</td>\n",
       "      <td>Não</td>\n",
       "      <td>1427.0</td>\n",
       "      <td>Centro-Oeste</td>\n",
       "      <td>Razoavel conexao (3G e 4G)</td>\n",
       "    </tr>\n",
       "    <tr>\n",
       "      <th>151151</th>\n",
       "      <td>Distrito Federal</td>\n",
       "      <td>Sim</td>\n",
       "      <td>entre 1/2 e 1/4 do salario minimo</td>\n",
       "      <td>Sim</td>\n",
       "      <td>Não</td>\n",
       "      <td>Não</td>\n",
       "      <td>355.0</td>\n",
       "      <td>Centro-Oeste</td>\n",
       "      <td>Razoavel conexao (3G e 4G)</td>\n",
       "    </tr>\n",
       "    <tr>\n",
       "      <th>151153</th>\n",
       "      <td>Distrito Federal</td>\n",
       "      <td>Sim</td>\n",
       "      <td>entre 1 e 2 salarios minimos</td>\n",
       "      <td>Sim</td>\n",
       "      <td>Não</td>\n",
       "      <td>Não</td>\n",
       "      <td>1100.0</td>\n",
       "      <td>Centro-Oeste</td>\n",
       "      <td>Razoavel conexao (3G e 4G)</td>\n",
       "    </tr>\n",
       "    <tr>\n",
       "      <th>151156</th>\n",
       "      <td>Distrito Federal</td>\n",
       "      <td>Sim</td>\n",
       "      <td>mais de 5 salarios minimos</td>\n",
       "      <td>Sim</td>\n",
       "      <td>Não</td>\n",
       "      <td>Não</td>\n",
       "      <td>5000.0</td>\n",
       "      <td>Centro-Oeste</td>\n",
       "      <td>Razoavel conexao (3G e 4G)</td>\n",
       "    </tr>\n",
       "    <tr>\n",
       "      <th>151158</th>\n",
       "      <td>Distrito Federal</td>\n",
       "      <td>Sim</td>\n",
       "      <td>mais de 5 salarios minimos</td>\n",
       "      <td>Sim</td>\n",
       "      <td>Não</td>\n",
       "      <td>Sim</td>\n",
       "      <td>5166.0</td>\n",
       "      <td>Centro-Oeste</td>\n",
       "      <td>Excelente conexao (3g4g e banda larga)</td>\n",
       "    </tr>\n",
       "    <tr>\n",
       "      <th>151159</th>\n",
       "      <td>Distrito Federal</td>\n",
       "      <td>Sim</td>\n",
       "      <td>mais de 5 salarios minimos</td>\n",
       "      <td>Sim</td>\n",
       "      <td>Não</td>\n",
       "      <td>Sim</td>\n",
       "      <td>6066.0</td>\n",
       "      <td>Centro-Oeste</td>\n",
       "      <td>Excelente conexao (3g4g e banda larga)</td>\n",
       "    </tr>\n",
       "    <tr>\n",
       "      <th>151161</th>\n",
       "      <td>Distrito Federal</td>\n",
       "      <td>Sim</td>\n",
       "      <td>mais de 5 salarios minimos</td>\n",
       "      <td>Não</td>\n",
       "      <td>Não</td>\n",
       "      <td>Sim</td>\n",
       "      <td>6200.0</td>\n",
       "      <td>Centro-Oeste</td>\n",
       "      <td>Media conexao (Banda Larga)</td>\n",
       "    </tr>\n",
       "    <tr>\n",
       "      <th>151163</th>\n",
       "      <td>Distrito Federal</td>\n",
       "      <td>Sim</td>\n",
       "      <td>entre 3 e 5 salarios minimos</td>\n",
       "      <td>Sim</td>\n",
       "      <td>Não</td>\n",
       "      <td>Sim</td>\n",
       "      <td>2500.0</td>\n",
       "      <td>Centro-Oeste</td>\n",
       "      <td>Excelente conexao (3g4g e banda larga)</td>\n",
       "    </tr>\n",
       "    <tr>\n",
       "      <th>151164</th>\n",
       "      <td>Distrito Federal</td>\n",
       "      <td>Sim</td>\n",
       "      <td>mais de 5 salarios minimos</td>\n",
       "      <td>Sim</td>\n",
       "      <td>Não</td>\n",
       "      <td>Sim</td>\n",
       "      <td>6000.0</td>\n",
       "      <td>Centro-Oeste</td>\n",
       "      <td>Excelente conexao (3g4g e banda larga)</td>\n",
       "    </tr>\n",
       "    <tr>\n",
       "      <th>151165</th>\n",
       "      <td>Distrito Federal</td>\n",
       "      <td>Sim</td>\n",
       "      <td>mais de 5 salarios minimos</td>\n",
       "      <td>Sim</td>\n",
       "      <td>Não</td>\n",
       "      <td>Sim</td>\n",
       "      <td>7600.0</td>\n",
       "      <td>Centro-Oeste</td>\n",
       "      <td>Excelente conexao (3g4g e banda larga)</td>\n",
       "    </tr>\n",
       "    <tr>\n",
       "      <th>151167</th>\n",
       "      <td>Distrito Federal</td>\n",
       "      <td>Sim</td>\n",
       "      <td>mais de 5 salarios minimos</td>\n",
       "      <td>Sim</td>\n",
       "      <td>Não</td>\n",
       "      <td>Sim</td>\n",
       "      <td>9375.0</td>\n",
       "      <td>Centro-Oeste</td>\n",
       "      <td>Excelente conexao (3g4g e banda larga)</td>\n",
       "    </tr>\n",
       "    <tr>\n",
       "      <th>151168</th>\n",
       "      <td>Distrito Federal</td>\n",
       "      <td>Sim</td>\n",
       "      <td>mais de 5 salarios minimos</td>\n",
       "      <td>Sim</td>\n",
       "      <td>Não</td>\n",
       "      <td>Sim</td>\n",
       "      <td>19850.0</td>\n",
       "      <td>Centro-Oeste</td>\n",
       "      <td>Excelente conexao (3g4g e banda larga)</td>\n",
       "    </tr>\n",
       "    <tr>\n",
       "      <th>151169</th>\n",
       "      <td>Distrito Federal</td>\n",
       "      <td>Sim</td>\n",
       "      <td>mais de 5 salarios minimos</td>\n",
       "      <td>Sim</td>\n",
       "      <td>Não</td>\n",
       "      <td>Sim</td>\n",
       "      <td>10566.0</td>\n",
       "      <td>Centro-Oeste</td>\n",
       "      <td>Excelente conexao (3g4g e banda larga)</td>\n",
       "    </tr>\n",
       "    <tr>\n",
       "      <th>151170</th>\n",
       "      <td>Distrito Federal</td>\n",
       "      <td>Sim</td>\n",
       "      <td>mais de 5 salarios minimos</td>\n",
       "      <td>Sim</td>\n",
       "      <td>Não</td>\n",
       "      <td>Sim</td>\n",
       "      <td>15320.0</td>\n",
       "      <td>Centro-Oeste</td>\n",
       "      <td>Excelente conexao (3g4g e banda larga)</td>\n",
       "    </tr>\n",
       "    <tr>\n",
       "      <th>151171</th>\n",
       "      <td>Distrito Federal</td>\n",
       "      <td>Sim</td>\n",
       "      <td>entre 3 e 5 salarios minimos</td>\n",
       "      <td>Sim</td>\n",
       "      <td>Não</td>\n",
       "      <td>Sim</td>\n",
       "      <td>3250.0</td>\n",
       "      <td>Centro-Oeste</td>\n",
       "      <td>Excelente conexao (3g4g e banda larga)</td>\n",
       "    </tr>\n",
       "    <tr>\n",
       "      <th>151173</th>\n",
       "      <td>Distrito Federal</td>\n",
       "      <td>Sim</td>\n",
       "      <td>mais de 1/2 salario minimo</td>\n",
       "      <td>Sim</td>\n",
       "      <td>Não</td>\n",
       "      <td>Não</td>\n",
       "      <td>438.0</td>\n",
       "      <td>Centro-Oeste</td>\n",
       "      <td>Razoavel conexao (3G e 4G)</td>\n",
       "    </tr>\n",
       "    <tr>\n",
       "      <th>151175</th>\n",
       "      <td>Distrito Federal</td>\n",
       "      <td>Sim</td>\n",
       "      <td>mais de 1/2 salario minimo</td>\n",
       "      <td>Sim</td>\n",
       "      <td>Não</td>\n",
       "      <td>Sim</td>\n",
       "      <td>635.0</td>\n",
       "      <td>Centro-Oeste</td>\n",
       "      <td>Excelente conexao (3g4g e banda larga)</td>\n",
       "    </tr>\n",
       "    <tr>\n",
       "      <th>151182</th>\n",
       "      <td>Distrito Federal</td>\n",
       "      <td>Sim</td>\n",
       "      <td>mais de 1/2 salario minimo</td>\n",
       "      <td>Sim</td>\n",
       "      <td>Não</td>\n",
       "      <td>Sim</td>\n",
       "      <td>775.0</td>\n",
       "      <td>Centro-Oeste</td>\n",
       "      <td>Excelente conexao (3g4g e banda larga)</td>\n",
       "    </tr>\n",
       "    <tr>\n",
       "      <th>151186</th>\n",
       "      <td>Distrito Federal</td>\n",
       "      <td>Sim</td>\n",
       "      <td>entre 1 e 2 salarios minimos</td>\n",
       "      <td>Sim</td>\n",
       "      <td>Não</td>\n",
       "      <td>Sim</td>\n",
       "      <td>796.0</td>\n",
       "      <td>Centro-Oeste</td>\n",
       "      <td>Excelente conexao (3g4g e banda larga)</td>\n",
       "    </tr>\n",
       "    <tr>\n",
       "      <th>151188</th>\n",
       "      <td>Distrito Federal</td>\n",
       "      <td>Sim</td>\n",
       "      <td>entre 1/2 e 1/4 do salario minimo</td>\n",
       "      <td>Sim</td>\n",
       "      <td>Não</td>\n",
       "      <td>Sim</td>\n",
       "      <td>259.0</td>\n",
       "      <td>Centro-Oeste</td>\n",
       "      <td>Excelente conexao (3g4g e banda larga)</td>\n",
       "    </tr>\n",
       "  </tbody>\n",
       "</table>\n",
       "<p>66332 rows × 9 columns</p>\n",
       "</div>"
      ],
      "text/plain": [
       "                 Estados Acesso a internet via celular  \\\n",
       "2               Rondônia                           Não   \n",
       "3               Rondônia                           Sim   \n",
       "5               Rondônia                           Não   \n",
       "8               Rondônia                           Sim   \n",
       "10              Rondônia                           Sim   \n",
       "11              Rondônia                           Sim   \n",
       "13              Rondônia                           Sim   \n",
       "15              Rondônia                           Sim   \n",
       "17              Rondônia                           Sim   \n",
       "18              Rondônia                           Sim   \n",
       "19              Rondônia                           Não   \n",
       "20              Rondônia                           Sim   \n",
       "23              Rondônia                           Sim   \n",
       "27              Rondônia                           Sim   \n",
       "28              Rondônia                           Sim   \n",
       "29              Rondônia                           Sim   \n",
       "31              Rondônia                           Sim   \n",
       "32              Rondônia                           Não   \n",
       "33              Rondônia                           Não   \n",
       "37              Rondônia                           Sim   \n",
       "39              Rondônia                           Sim   \n",
       "42              Rondônia                           Não   \n",
       "43              Rondônia                           Não   \n",
       "44              Rondônia                           Sim   \n",
       "45              Rondônia                           Não   \n",
       "50              Rondônia                           Sim   \n",
       "54              Rondônia                           Sim   \n",
       "66              Rondônia                           Sim   \n",
       "71              Rondônia                           Sim   \n",
       "72              Rondônia                           Sim   \n",
       "...                  ...                           ...   \n",
       "151134  Distrito Federal                           Sim   \n",
       "151135  Distrito Federal                           Sim   \n",
       "151139  Distrito Federal                           Sim   \n",
       "151140  Distrito Federal                           Sim   \n",
       "151142  Distrito Federal                           Sim   \n",
       "151143  Distrito Federal                           Sim   \n",
       "151144  Distrito Federal                           Sim   \n",
       "151146  Distrito Federal                           Sim   \n",
       "151147  Distrito Federal                           Não   \n",
       "151148  Distrito Federal                           Sim   \n",
       "151150  Distrito Federal                           Sim   \n",
       "151151  Distrito Federal                           Sim   \n",
       "151153  Distrito Federal                           Sim   \n",
       "151156  Distrito Federal                           Sim   \n",
       "151158  Distrito Federal                           Sim   \n",
       "151159  Distrito Federal                           Sim   \n",
       "151161  Distrito Federal                           Sim   \n",
       "151163  Distrito Federal                           Sim   \n",
       "151164  Distrito Federal                           Sim   \n",
       "151165  Distrito Federal                           Sim   \n",
       "151167  Distrito Federal                           Sim   \n",
       "151168  Distrito Federal                           Sim   \n",
       "151169  Distrito Federal                           Sim   \n",
       "151170  Distrito Federal                           Sim   \n",
       "151171  Distrito Federal                           Sim   \n",
       "151173  Distrito Federal                           Sim   \n",
       "151175  Distrito Federal                           Sim   \n",
       "151182  Distrito Federal                           Sim   \n",
       "151186  Distrito Federal                           Sim   \n",
       "151188  Distrito Federal                           Sim   \n",
       "\n",
       "                                  Salario Internet via 3G e 4G  \\\n",
       "2            entre 1 e 2 salarios minimos                  Sim   \n",
       "3            entre 1 e 2 salarios minimos                  Sim   \n",
       "5            entre 2 e 3 salarios minimos                  Não   \n",
       "8            entre 1 e 2 salarios minimos                  Sim   \n",
       "10           entre 2 e 3 salarios minimos                  Sim   \n",
       "11           entre 3 e 5 salarios minimos                  Sim   \n",
       "13           entre 1 e 2 salarios minimos                  Sim   \n",
       "15             mais de 1/2 salario minimo                  Sim   \n",
       "17             mais de 1/2 salario minimo                  Não   \n",
       "18           entre 1 e 2 salarios minimos                  Não   \n",
       "19             mais de 1/2 salario minimo                  Não   \n",
       "20           entre 1 e 2 salarios minimos                  Não   \n",
       "23           entre 3 e 5 salarios minimos                  Não   \n",
       "27           entre 3 e 5 salarios minimos                  Não   \n",
       "28           entre 3 e 5 salarios minimos                  Não   \n",
       "29           entre 1 e 2 salarios minimos                  Não   \n",
       "31           entre 3 e 5 salarios minimos                  Não   \n",
       "32      entre 1/2 e 1/4 do salario minimo                  Não   \n",
       "33                  1/4 do salario minimo                  Não   \n",
       "37             mais de 1/2 salario minimo                  Sim   \n",
       "39                  1/4 do salario minimo                  Sim   \n",
       "42           entre 1 e 2 salarios minimos                  Não   \n",
       "43           entre 1 e 2 salarios minimos                  Não   \n",
       "44           entre 2 e 3 salarios minimos                  Sim   \n",
       "45             mais de 1/2 salario minimo                  Não   \n",
       "50             mais de 1/2 salario minimo                  Sim   \n",
       "54           entre 2 e 3 salarios minimos                  Sim   \n",
       "66             mais de 1/2 salario minimo                  Sim   \n",
       "71             mais de 1/2 salario minimo                  Não   \n",
       "72             mais de 1/2 salario minimo                  Sim   \n",
       "...                                   ...                  ...   \n",
       "151134         mais de 1/2 salario minimo                  Sim   \n",
       "151135         mais de 1/2 salario minimo                  Sim   \n",
       "151139  entre 1/2 e 1/4 do salario minimo                  Sim   \n",
       "151140         mais de 1/2 salario minimo                  Sim   \n",
       "151142         mais de 1/2 salario minimo                  Sim   \n",
       "151143       entre 3 e 5 salarios minimos                  Sim   \n",
       "151144       entre 3 e 5 salarios minimos                  Sim   \n",
       "151146       entre 1 e 2 salarios minimos                  Sim   \n",
       "151147       entre 1 e 2 salarios minimos                  Não   \n",
       "151148  entre 1/2 e 1/4 do salario minimo                  Sim   \n",
       "151150       entre 1 e 2 salarios minimos                  Sim   \n",
       "151151  entre 1/2 e 1/4 do salario minimo                  Sim   \n",
       "151153       entre 1 e 2 salarios minimos                  Sim   \n",
       "151156         mais de 5 salarios minimos                  Sim   \n",
       "151158         mais de 5 salarios minimos                  Sim   \n",
       "151159         mais de 5 salarios minimos                  Sim   \n",
       "151161         mais de 5 salarios minimos                  Não   \n",
       "151163       entre 3 e 5 salarios minimos                  Sim   \n",
       "151164         mais de 5 salarios minimos                  Sim   \n",
       "151165         mais de 5 salarios minimos                  Sim   \n",
       "151167         mais de 5 salarios minimos                  Sim   \n",
       "151168         mais de 5 salarios minimos                  Sim   \n",
       "151169         mais de 5 salarios minimos                  Sim   \n",
       "151170         mais de 5 salarios minimos                  Sim   \n",
       "151171       entre 3 e 5 salarios minimos                  Sim   \n",
       "151173         mais de 1/2 salario minimo                  Sim   \n",
       "151175         mais de 1/2 salario minimo                  Sim   \n",
       "151182         mais de 1/2 salario minimo                  Sim   \n",
       "151186       entre 1 e 2 salarios minimos                  Sim   \n",
       "151188  entre 1/2 e 1/4 do salario minimo                  Sim   \n",
       "\n",
       "       Internet via conexao discada Internet via banda larga    Renda  \\\n",
       "2                               Não                      Sim   1150.0   \n",
       "3                               Não                      Sim    793.0   \n",
       "5                               Não                      Sim   1990.0   \n",
       "8                               Não                      Sim    818.0   \n",
       "10                              Não                      Sim   1716.0   \n",
       "11                              Não                      Sim   2500.0   \n",
       "13                              Não                      Sim   1400.0   \n",
       "15                              Não                      Sim    666.0   \n",
       "17                              Não                      Sim    750.0   \n",
       "18                              Não                      Sim   1437.0   \n",
       "19                              Sim                      Não    600.0   \n",
       "20                              Não                      Sim    933.0   \n",
       "23                              Não                      Sim   2666.0   \n",
       "27                              Não                      Sim   3325.0   \n",
       "28                              Sim                      Sim   3500.0   \n",
       "29                              Não                      Sim   1172.0   \n",
       "31                              Não                      Sim   3000.0   \n",
       "32                              Sim                      Não    366.0   \n",
       "33                              Sim                      Não    175.0   \n",
       "37                              Sim                      Não    596.0   \n",
       "39                              Sim                      Não    196.0   \n",
       "42                              Sim                      Não    975.0   \n",
       "43                              Sim                      Não    850.0   \n",
       "44                              Sim                      Não   2000.0   \n",
       "45                              Sim                      Não    480.0   \n",
       "50                              Sim                      Não    666.0   \n",
       "54                              Não                      Não   2100.0   \n",
       "66                              Não                      Não    635.0   \n",
       "71                              Não                      Sim    550.0   \n",
       "72                              Não                      Não    590.0   \n",
       "...                             ...                      ...      ...   \n",
       "151134                          Sim                      Não    571.0   \n",
       "151135                          Não                      Sim    416.0   \n",
       "151139                          Não                      Sim    394.0   \n",
       "151140                          Não                      Sim    525.0   \n",
       "151142                          Não                      Não    452.0   \n",
       "151143                          Não                      Sim   2527.0   \n",
       "151144                          Não                      Sim   2500.0   \n",
       "151146                          Não                      Não    950.0   \n",
       "151147                          Não                      Sim   1109.0   \n",
       "151148                          Não                      Não    283.0   \n",
       "151150                          Não                      Não   1427.0   \n",
       "151151                          Não                      Não    355.0   \n",
       "151153                          Não                      Não   1100.0   \n",
       "151156                          Não                      Não   5000.0   \n",
       "151158                          Não                      Sim   5166.0   \n",
       "151159                          Não                      Sim   6066.0   \n",
       "151161                          Não                      Sim   6200.0   \n",
       "151163                          Não                      Sim   2500.0   \n",
       "151164                          Não                      Sim   6000.0   \n",
       "151165                          Não                      Sim   7600.0   \n",
       "151167                          Não                      Sim   9375.0   \n",
       "151168                          Não                      Sim  19850.0   \n",
       "151169                          Não                      Sim  10566.0   \n",
       "151170                          Não                      Sim  15320.0   \n",
       "151171                          Não                      Sim   3250.0   \n",
       "151173                          Não                      Não    438.0   \n",
       "151175                          Não                      Sim    635.0   \n",
       "151182                          Não                      Sim    775.0   \n",
       "151186                          Não                      Sim    796.0   \n",
       "151188                          Não                      Sim    259.0   \n",
       "\n",
       "              Regiao                           Conectividade  \n",
       "2              Norte  Excelente conexao (3g4g e banda larga)  \n",
       "3              Norte  Excelente conexao (3g4g e banda larga)  \n",
       "5              Norte             Media conexao (Banda Larga)  \n",
       "8              Norte  Excelente conexao (3g4g e banda larga)  \n",
       "10             Norte  Excelente conexao (3g4g e banda larga)  \n",
       "11             Norte  Excelente conexao (3g4g e banda larga)  \n",
       "13             Norte  Excelente conexao (3g4g e banda larga)  \n",
       "15             Norte  Excelente conexao (3g4g e banda larga)  \n",
       "17             Norte             Media conexao (Banda Larga)  \n",
       "18             Norte             Media conexao (Banda Larga)  \n",
       "19             Norte                 Baixa conexao (Discada)  \n",
       "20             Norte             Media conexao (Banda Larga)  \n",
       "23             Norte             Media conexao (Banda Larga)  \n",
       "27             Norte             Media conexao (Banda Larga)  \n",
       "28             Norte     Boa conexao (Banda larga e discada)  \n",
       "29             Norte             Media conexao (Banda Larga)  \n",
       "31             Norte             Media conexao (Banda Larga)  \n",
       "32             Norte                 Baixa conexao (Discada)  \n",
       "33             Norte                 Baixa conexao (Discada)  \n",
       "37             Norte          Otima conexao (Discada e 3g4g)  \n",
       "39             Norte          Otima conexao (Discada e 3g4g)  \n",
       "42             Norte                 Baixa conexao (Discada)  \n",
       "43             Norte                 Baixa conexao (Discada)  \n",
       "44             Norte          Otima conexao (Discada e 3g4g)  \n",
       "45             Norte                 Baixa conexao (Discada)  \n",
       "50             Norte          Otima conexao (Discada e 3g4g)  \n",
       "54             Norte              Razoavel conexao (3G e 4G)  \n",
       "66             Norte              Razoavel conexao (3G e 4G)  \n",
       "71             Norte             Media conexao (Banda Larga)  \n",
       "72             Norte              Razoavel conexao (3G e 4G)  \n",
       "...              ...                                     ...  \n",
       "151134  Centro-Oeste          Otima conexao (Discada e 3g4g)  \n",
       "151135  Centro-Oeste  Excelente conexao (3g4g e banda larga)  \n",
       "151139  Centro-Oeste  Excelente conexao (3g4g e banda larga)  \n",
       "151140  Centro-Oeste  Excelente conexao (3g4g e banda larga)  \n",
       "151142  Centro-Oeste              Razoavel conexao (3G e 4G)  \n",
       "151143  Centro-Oeste  Excelente conexao (3g4g e banda larga)  \n",
       "151144  Centro-Oeste  Excelente conexao (3g4g e banda larga)  \n",
       "151146  Centro-Oeste              Razoavel conexao (3G e 4G)  \n",
       "151147  Centro-Oeste             Media conexao (Banda Larga)  \n",
       "151148  Centro-Oeste              Razoavel conexao (3G e 4G)  \n",
       "151150  Centro-Oeste              Razoavel conexao (3G e 4G)  \n",
       "151151  Centro-Oeste              Razoavel conexao (3G e 4G)  \n",
       "151153  Centro-Oeste              Razoavel conexao (3G e 4G)  \n",
       "151156  Centro-Oeste              Razoavel conexao (3G e 4G)  \n",
       "151158  Centro-Oeste  Excelente conexao (3g4g e banda larga)  \n",
       "151159  Centro-Oeste  Excelente conexao (3g4g e banda larga)  \n",
       "151161  Centro-Oeste             Media conexao (Banda Larga)  \n",
       "151163  Centro-Oeste  Excelente conexao (3g4g e banda larga)  \n",
       "151164  Centro-Oeste  Excelente conexao (3g4g e banda larga)  \n",
       "151165  Centro-Oeste  Excelente conexao (3g4g e banda larga)  \n",
       "151167  Centro-Oeste  Excelente conexao (3g4g e banda larga)  \n",
       "151168  Centro-Oeste  Excelente conexao (3g4g e banda larga)  \n",
       "151169  Centro-Oeste  Excelente conexao (3g4g e banda larga)  \n",
       "151170  Centro-Oeste  Excelente conexao (3g4g e banda larga)  \n",
       "151171  Centro-Oeste  Excelente conexao (3g4g e banda larga)  \n",
       "151173  Centro-Oeste              Razoavel conexao (3G e 4G)  \n",
       "151175  Centro-Oeste  Excelente conexao (3g4g e banda larga)  \n",
       "151182  Centro-Oeste  Excelente conexao (3g4g e banda larga)  \n",
       "151186  Centro-Oeste  Excelente conexao (3g4g e banda larga)  \n",
       "151188  Centro-Oeste  Excelente conexao (3g4g e banda larga)  \n",
       "\n",
       "[66332 rows x 9 columns]"
      ]
     },
     "execution_count": 8,
     "metadata": {},
     "output_type": "execute_result"
    }
   ],
   "source": [
    "#renomei as colunas principais \n",
    "renomear = dados.rename(columns = {\"UF\": \"Estados\", \"V02324\": \"Acesso a internet via celular\", \"V4622\":\"Salario\", \"V02424\":\"Internet via 3G e 4G\", \"V02425\":\"Internet via conexao discada\", \"V02426\":\"Internet via banda larga\", \"V4621\": \"Renda\"}) #\n",
    "renomear\n"
   ]
  },
  {
   "cell_type": "code",
   "execution_count": 49,
   "metadata": {
    "collapsed": false
   },
   "outputs": [
    {
     "data": {
      "text/plain": [
       "(197, 731]      33.651894\n",
       "(731, 1265]     31.631592\n",
       "(1265, 1799]    15.469176\n",
       "(1799, 2333]     8.546670\n",
       "(2333, 2867]     4.728893\n",
       "(2867, 3401]     3.713791\n",
       "(3401, 3935]     2.257985\n",
       "Name: Renda, dtype: float64"
      ]
     },
     "execution_count": 49,
     "metadata": {},
     "output_type": "execute_result"
    }
   ],
   "source": [
    "#criacao de tabelas conforme cada regiao do Brasil, que possibilita uma analise macro das taxas de conectividade por regiao e \n",
    "#sua relacao com a renda\n",
    "\n",
    "#tabela sudeste\n",
    "tabelasudeste= renomear[renomear.Regiao=='Sudeste']\n",
    "Renda_cat = pd.cut(tabelasudeste.Renda, bins=faixa)\n",
    "Renda_cat.value_counts(sort=False, normalize=True)*100\n"
   ]
  },
  {
   "cell_type": "code",
   "execution_count": 50,
   "metadata": {
    "collapsed": false
   },
   "outputs": [
    {
     "data": {
      "text/plain": [
       "(197, 731]      25.508858\n",
       "(731, 1265]     32.444403\n",
       "(1265, 1799]    18.563890\n",
       "(1799, 2333]    10.525820\n",
       "(2333, 2867]     6.181681\n",
       "(2867, 3401]     4.476065\n",
       "(3401, 3935]     2.299284\n",
       "Name: Renda, dtype: float64"
      ]
     },
     "execution_count": 50,
     "metadata": {},
     "output_type": "execute_result"
    }
   ],
   "source": [
    "#tabela sul\n",
    "tabelasul= renomear[renomear.Regiao=='Sul']\n",
    "Renda_cat = pd.cut(tabelasul.Renda, bins=faixa)\n",
    "Renda_cat.value_counts(sort=False, normalize=True)*100\n"
   ]
  },
  {
   "cell_type": "code",
   "execution_count": 51,
   "metadata": {
    "collapsed": false
   },
   "outputs": [
    {
     "data": {
      "text/plain": [
       "(197, 731]      50.084579\n",
       "(731, 1265]     26.769101\n",
       "(1265, 1799]    10.248097\n",
       "(1799, 2333]     6.019171\n",
       "(2333, 2867]     3.312659\n",
       "(2867, 3401]     2.086270\n",
       "(3401, 3935]     1.480124\n",
       "Name: Renda, dtype: float64"
      ]
     },
     "execution_count": 51,
     "metadata": {},
     "output_type": "execute_result"
    }
   ],
   "source": [
    "#tabela norte\n",
    "tabelanorte= renomear[renomear.Regiao=='Norte']\n",
    "Renda_cat = pd.cut(tabelanorte.Renda, bins=faixa)\n",
    "Renda_cat.value_counts(sort=False, normalize=True)*100"
   ]
  },
  {
   "cell_type": "code",
   "execution_count": 52,
   "metadata": {
    "collapsed": false
   },
   "outputs": [
    {
     "data": {
      "text/plain": [
       "(197, 731]      53.887496\n",
       "(731, 1265]     25.797205\n",
       "(1265, 1799]     9.057685\n",
       "(1799, 2333]     4.772483\n",
       "(2333, 2867]     3.002508\n",
       "(2867, 3401]     2.278753\n",
       "(3401, 3935]     1.203870\n",
       "Name: Renda, dtype: float64"
      ]
     },
     "execution_count": 52,
     "metadata": {},
     "output_type": "execute_result"
    }
   ],
   "source": [
    "#tabela nordeste\n",
    "tabelanordeste= renomear[renomear.Regiao=='Nordeste']\n",
    "Renda_cat = pd.cut(tabelanordeste.Renda, bins=faixa)\n",
    "Renda_cat.value_counts(sort=False, normalize=True)*100"
   ]
  },
  {
   "cell_type": "code",
   "execution_count": 53,
   "metadata": {
    "collapsed": false
   },
   "outputs": [
    {
     "data": {
      "text/plain": [
       "(197, 731]      32.587178\n",
       "(731, 1265]     31.323283\n",
       "(1265, 1799]    15.060149\n",
       "(1799, 2333]     9.334552\n",
       "(2333, 2867]     5.040353\n",
       "(2867, 3401]     4.126694\n",
       "(3401, 3935]     2.527790\n",
       "Name: Renda, dtype: float64"
      ]
     },
     "execution_count": 53,
     "metadata": {},
     "output_type": "execute_result"
    }
   ],
   "source": [
    "#tabela centro-oeste\n",
    "tabelacentro = renomear[renomear.Regiao=='Centro-Oeste']\n",
    "Renda_cat = pd.cut(tabelacentro.Renda, bins=faixa)\n",
    "Renda_cat.value_counts(sort=False, normalize=True)*100"
   ]
  },
  {
   "cell_type": "code",
   "execution_count": 73,
   "metadata": {
    "collapsed": false
   },
   "outputs": [
    {
     "data": {
      "text/plain": [
       "<matplotlib.text.Text at 0x2b98a80d780>"
      ]
     },
     "execution_count": 73,
     "metadata": {},
     "output_type": "execute_result"
    },
    {
     "data": {
      "image/png": "[encoded data removed]",
      "text/plain": [
       "<matplotlib.figure.Figure at 0x2b98cb20dd8>"
      ]
     },
     "metadata": {},
     "output_type": "display_data"
    }
   ],
   "source": [
    "fig = plt.figure(figsize=(16, 6))\n",
    "\n",
    "plt.subplot(131)\n",
    "faixa = range(197,3940,534) #1/4 sal min = 197// mais de 5 sal min = 3941// isso tuod dividido em 4 faixas\n",
    "plot = renomear.Renda.plot.hist(bins=faixa,title='Gráfico de Renda Média Brasil - 2015', weights=zeros_like(renomear.Renda)+1./renomear.Renda.size*100, alpha=0.7)\n",
    "plt.ylabel('Frequência absoluta')\n",
    "plt.xlabel('Renda (em reais)')\n",
    "\n",
    "plt.subplot(132)\n",
    "plot = tabelanorte.Renda.plot.hist(bins=faixa,title='Gráfico de Renda Média Norte - 2015', weights=zeros_like(tabelanorte.Renda)+1./tabelanorte.Renda.size*100, alpha=0.7)\n",
    "plt.ylabel('Frequência absoluta')\n",
    "plt.xlabel('Renda (em reais)')\n",
    "\n",
    "\n",
    "\n",
    "plt.subplot(133)\n",
    "plot = tabelasudeste.Renda.plot.hist(bins=faixa,title='Gráfico de Renda Média Sudeste - 2015', weights=zeros_like(tabelasudeste.Renda)+1./tabelasudeste.Renda.size*100, alpha=0.7)\n",
    "plt.ylabel('Frequência absoluta')\n",
    "plt.xlabel('Renda (em reais)')\n",
    "\n"
   ]
  },
  {
   "cell_type": "code",
   "execution_count": 75,
   "metadata": {
    "collapsed": false
   },
   "outputs": [
    {
     "data": {
      "text/plain": [
       "<matplotlib.text.Text at 0x2b98d56cf60>"
      ]
     },
     "execution_count": 75,
     "metadata": {},
     "output_type": "execute_result"
    },
    {
     "data": {
      "image/png": "[encoded data removed]",
      "text/plain": [
       "<matplotlib.figure.Figure at 0x2b98cb50e80>"
      ]
     },
     "metadata": {},
     "output_type": "display_data"
    }
   ],
   "source": [
    "fig = plt.figure(figsize=(16, 6))\n",
    "\n",
    "plt.subplot(131)\n",
    "faixa = range(197,3940,534) #1/4 sal min = 197// mais de 5 sal min = 3941// isso tuod dividido em 4 faixas\n",
    "\n",
    "\n",
    "plot = tabelacentro.Renda.plot.hist(bins=faixa,title='Gráfico de Renda Média Centro - 2015', weights=zeros_like(tabelacentro.Renda)+1./tabelacentro.Renda.size*100, alpha=0.7)\n",
    "plt.ylabel('Frequência absoluta')\n",
    "plt.xlabel('Renda (em reais)')\n",
    "\n",
    "plt.subplot(132)\n",
    "\n",
    "plot = tabelanordeste.Renda.plot.hist(bins=faixa,title='Gráfico de Renda Média Nordeste - 2015', weights=zeros_like(tabelanordeste.Renda)+1./tabelanordeste.Renda.size*100, alpha=0.7)\n",
    "plt.ylabel('Frequência absoluta')\n",
    "plt.xlabel('Renda (em reais)')\n",
    "\n",
    "\n",
    "\n",
    "plt.subplot(133)\n",
    "plot = tabelasul.Renda.plot.hist(bins=faixa,title='Gráfico de Renda Média Sul - 2015', weights=zeros_like(tabelasul.Renda)+1./tabelasul.Renda.size*100, alpha=0.7)\n",
    "plt.ylabel('Frequência absoluta')\n",
    "plt.xlabel('Renda (em reais)')\n",
    "\n"
   ]
  },
  {
   "cell_type": "code",
   "execution_count": 76,
   "metadata": {
    "collapsed": false
   },
   "outputs": [],
   "source": [
    "#tabelasul\n",
    "\n",
    "#faixa = range(197,3940,534)  #788 - salario minimo    #baseando com uma comparacao c a quali (788,4685,670)\n",
    "\n",
    "\n",
    "#fig = plt.figure(figsize=(11,6))\n",
    "#plt.subplot(121)\n",
    "\n",
    "#plot = tabelasul.Renda.plot.hist(bins=faixa,title='Gráfico de Renda Média Sul - 2015', weights=zeros_like(tabelasul.Renda)+1./tabelasul.Renda.size*100, alpha=0.7)\n",
    "#bin_centers = 0.5 * (bins[:-1] + bins[1:])\n",
    "#col = bin_centers - min(bin_centers)\n",
    "#col /= max(col)\n",
    "#for c, p in zip(col, patches):\n",
    "#    plt.setp(p, 'facecolor', cm(c))\n",
    "#plt.ylabel(' %')\n",
    "#plt.xlabel('renda (em reais)')\n",
    "\n",
    "\n"
   ]
  },
  {
   "cell_type": "code",
   "execution_count": 77,
   "metadata": {
    "collapsed": false
   },
   "outputs": [],
   "source": [
    "#tabelanorte\n",
    "#faixa = range(197,3940,534)  #788 - salario minimo    #baseando com uma comparacao c a quali (788,4685,670)\n",
    "#Renda_cat = pd.cut(tabelanorte.Renda, bins=faixa)\n",
    "#Renda_cat.value_counts(sort=False, normalize=True)*100\n",
    "\n",
    "\n",
    "#fig = plt.figure(figsize=(11,6))\n",
    "#plt.subplot(121)\n",
    "\n",
    "#cm = plt.cm.get_cmap('RdYlBu_r')\n",
    "#plot = tabelanorte.Renda.plot.hist(bins=faixa,title='Gráfico de Renda Média Norte - 2015', weights=zeros_like(tabelanorte.Renda)+1./tabelanorte.Renda.size*100, alpha=0.7)\n",
    "#bin_centers = 0.5 * (bins[:-1] + bins[1:])\n",
    "#col = bin_centers - min(bin_centers)\n",
    "#col /= max(col)\n",
    "#for c, p in zip(col, patches):\n",
    "#    plt.setp(p, 'facecolor', cm(c))\n",
    "#plt.ylabel(' %')\n",
    "#plt.xlabel('renda (em reais)')"
   ]
  },
  {
   "cell_type": "code",
   "execution_count": 78,
   "metadata": {
    "collapsed": false
   },
   "outputs": [],
   "source": [
    "#tabelanordeste\n",
    "#faixa = range(197,3940,534)  #788 - salario minimo    #baseando com uma comparacao c a quali (788,4685,670)\n",
    "#Renda_cat = pd.cut(tabelanordeste.Renda, bins=faixa)\n",
    "#Renda_cat.value_counts(sort=False, normalize=True)*100\n",
    "\n",
    "\n",
    "#fig = plt.figure(figsize=(11,6))\n",
    "#plt.subplot(121)\n",
    "\n",
    "#cm = plt.cm.get_cmap('RdYlBu_r')\n",
    "#plot = tabelanordeste.Renda.plot.hist(bins=faixa,title='Gráfico de Renda Média Nordeste - 2015', weights=zeros_like(tabelanordeste.Renda)+1./tabelanordeste.Renda.size*100, alpha=0.7)\n",
    "#bin_centers = 0.5 * (bins[:-1] + bins[1:])\n",
    "#col = bin_centers - min(bin_centers)\n",
    "#col /= max(col)\n",
    "#for c, p in zip(col, patches):\n",
    "#    plt.setp(p, 'facecolor', cm(c))\n",
    "#plt.ylabel(' %')\n",
    "#plt.xlabel('renda (em reais)')"
   ]
  },
  {
   "cell_type": "code",
   "execution_count": 79,
   "metadata": {
    "collapsed": false
   },
   "outputs": [],
   "source": [
    "#tabelacentro\n",
    "#faixa = range(197,3940,534)  #788 - salario minimo    #baseando com uma comparacao c a quali (788,4685,670)\n",
    "#Renda_cat = pd.cut(tabelacentro.Renda, bins=faixa)\n",
    "#Renda_cat.value_counts(sort=False, normalize=True)*100\n",
    "\n",
    "\n",
    "#fig = plt.figure(figsize=(11,6))\n",
    "#plt.subplot(121)\n",
    "\n",
    "#cm = plt.cm.get_cmap('RdYlBu_r')\n",
    "#plot = tabelacentro.Renda.plot.hist(bins=faixa,title='Gráfico de Renda Média Centro - 2015', weights=zeros_like(tabelacentro.Renda)+1./tabelacentro.Renda.size*100, alpha=0.7)\n",
    "#bin_centers = 0.5 * (bins[:-1] + bins[1:])\n",
    "#col = bin_centers - min(bin_centers)\n",
    "#col /= max(col)\n",
    "#for c, p in zip(col, patches):\n",
    "#    plt.setp(p, 'facecolor', cm(c))\n",
    "#plt.ylabel(' %')\n",
    "#plt.xlabel('renda (em reais)')"
   ]
  },
  {
   "cell_type": "code",
   "execution_count": 80,
   "metadata": {
    "collapsed": false
   },
   "outputs": [],
   "source": [
    "#tabelasudeste\n",
    "#faixa = range(197,3940,534)  #788 - salario minimo    #baseando com uma comparacao c a quali (788,4685,670)\n",
    "#Renda_cat = pd.cut(tabelasudeste.Renda, bins=faixa)\n",
    "#Renda_cat.value_counts(sort=False, normalize=True)*100\n",
    "\n",
    "\n",
    "#fig = plt.figure(figsize=(11,6))\n",
    "#plt.subplot(121)\n",
    "\n",
    "#cm = plt.cm.get_cmap('RdYlBu_r')\n",
    "#plot = tabelasudeste.Renda.plot.hist(bins=faixa,title='Gráfico de Renda Média Sudeste - 2015', weights=zeros_like(tabelasudeste.Renda)+1./tabelasudeste.Renda.size*100, alpha=0.7)\n",
    "#bin_centers = 0.5 * (bins[:-1] + bins[1:])\n",
    "#col = bin_centers - min(bin_centers)\n",
    "#col /= max(col)\n",
    "#for c, p in zip(col, patches):\n",
    "#    plt.setp(p, 'facecolor', cm(c))\n",
    "#plt.ylabel(' %')\n",
    "#plt.xlabel('renda (em reais)')"
   ]
  },
  {
   "cell_type": "code",
   "execution_count": 16,
   "metadata": {
    "collapsed": false
   },
   "outputs": [
    {
     "data": {
      "text/plain": [
       "<matplotlib.text.Text at 0x2b9801922b0>"
      ]
     },
     "execution_count": 16,
     "metadata": {},
     "output_type": "execute_result"
    },
    {
     "data": {
      "image/png": "[encoded data removed]",
      "text/plain": [
       "<matplotlib.figure.Figure at 0x2b981ac1860>"
      ]
     },
     "metadata": {},
     "output_type": "display_data"
    }
   ],
   "source": [
    "#plotando em boxplot\n",
    "\n",
    "#tabelasudeste\n",
    "renda_box = tabelasudeste.Renda[(tabelasudeste.Renda < 3940) & (tabelasudeste.Renda > 788)]\n",
    "\n",
    "\n",
    "\n",
    "fig = plt.figure(figsize=(11,6))\n",
    "#plt.subplot(121)\n",
    "\n",
    "#cm = plt.cm.get_cmap('RdYlBu_r')\n",
    "plot = renda_box.plot(kind = \"box\", title='Gráfico de Renda Média Sudeste - 2015')\n",
    "\n",
    "plt.ylabel(' %')\n",
    "plt.xlabel('renda (em reais)')\n",
    "\n",
    "#consistente c a escolha c salarios minimos\n"
   ]
  },
  {
   "cell_type": "code",
   "execution_count": 82,
   "metadata": {
    "collapsed": true
   },
   "outputs": [],
   "source": [
    "cruzamento_5 = pd.crosstab(renomear[\"Salario\"], renomear[\"Internet via 3G e 4G\"], normalize=\"index\")\n",
    "cruzamento_7 = pd.crosstab(renomear[\"Salario\"], renomear[\"Internet via banda larga\"], normalize=\"index\")\n",
    "cruzamento_8 = pd.crosstab(renomear[\"Salario\"], renomear[\"Internet via conexao discada\"], normalize=\"index\")\n"
   ]
  },
  {
   "cell_type": "code",
   "execution_count": 95,
   "metadata": {
    "collapsed": false
   },
   "outputs": [],
   "source": [
    "#cruzamento_5*100"
   ]
  },
  {
   "cell_type": "code",
   "execution_count": 94,
   "metadata": {
    "collapsed": false
   },
   "outputs": [],
   "source": [
    "#cruzamento_7*100"
   ]
  },
  {
   "cell_type": "code",
   "execution_count": 93,
   "metadata": {
    "collapsed": false
   },
   "outputs": [],
   "source": [
    "#cruzamento_8*100"
   ]
  },
  {
   "cell_type": "markdown",
   "metadata": {},
   "source": [
    "### Interpretação conexões e opcões escolhidas conforme as faixas salariais \n",
    "A partir da análise dos gráficos nota-se que a internet discada nao é mais uma opcao entre a maioria das faixas de renda no Brasil, uma vez que por ser antiquadra e necessitar de uma linha telefônica para transmitir os dados, acaba sendo muito mais inviável e lenta. Enquanto isso, a banda larga usa diferentes sistemas, além do telefônico, que permitem transmissões muito mais velozes. Já a conexão 3G/4G não a necessidade de fios; por se tratar de uma tecnologia móvel e é bem potente, e compete fielmente com a internet banda larga e que tende no futuro breve a até substitui-la permanentemente, já que apresenta maior aceitação já na maioria das faixas salariais. "
   ]
  },
  {
   "cell_type": "code",
   "execution_count": 87,
   "metadata": {
    "collapsed": false
   },
   "outputs": [
    {
     "data": {
      "text/plain": [
       "<matplotlib.axes._subplots.AxesSubplot at 0x2b98e7c8b70>"
      ]
     },
     "execution_count": 87,
     "metadata": {},
     "output_type": "execute_result"
    },
    {
     "data": {
      "image/png": "[encoded data removed]",
      "text/plain": [
       "<matplotlib.figure.Figure at 0x2b982a884a8>"
      ]
     },
     "metadata": {},
     "output_type": "display_data"
    },
    {
     "data": {
      "image/png": "[encoded data removed]",
      "text/plain": [
       "<matplotlib.figure.Figure at 0x2b982a886d8>"
      ]
     },
     "metadata": {},
     "output_type": "display_data"
    },
    {
     "data": {
      "image/png": "[encoded data removed]",
      "text/plain": [
       "<matplotlib.figure.Figure at 0x2b98e7b5a58>"
      ]
     },
     "metadata": {},
     "output_type": "display_data"
    }
   ],
   "source": [
    "#grafico qualitativo/quant que indica o acesso a internet 3G e 4G e a internet banda larga \n",
    "#pois as taxas para obtenção do serviço ainda são consideravelmente altas e a área de cobertura é relativamente restrita, principalmente para certos locais com uma infraestrutura mais precoce.\n",
    "#Assim é possível notar que a internet banda larga é ainda a mais optada no pais por suas inúmeras vantagens, e nas faixas salariais mais altas é , mas \n",
    "\n",
    "cruzamento_8.plot(kind=\"bar\")\n",
    "\n",
    "cruzamento_7.plot(kind=\"bar\")\n",
    "\n",
    "cruzamento_5.plot(kind=\"bar\")\n"
   ]
  },
  {
   "cell_type": "code",
   "execution_count": 96,
   "metadata": {
    "collapsed": false
   },
   "outputs": [
    {
     "data": {
      "text/html": [
       "<div>\n",
       "<table border=\"1\" class=\"dataframe\">\n",
       "  <thead>\n",
       "    <tr style=\"text-align: right;\">\n",
       "      <th>Conectividade</th>\n",
       "      <th>Baixa conexao (Discada)</th>\n",
       "      <th>Boa conexao (Banda larga e discada)</th>\n",
       "      <th>Excelente conexao (3g4g e banda larga)</th>\n",
       "      <th>Excepcional conexao (todas)</th>\n",
       "      <th>Media conexao (Banda Larga)</th>\n",
       "      <th>Otima conexao (Discada e 3g4g)</th>\n",
       "      <th>Razoavel conexao (3G e 4G)</th>\n",
       "    </tr>\n",
       "    <tr>\n",
       "      <th>Regiao</th>\n",
       "      <th></th>\n",
       "      <th></th>\n",
       "      <th></th>\n",
       "      <th></th>\n",
       "      <th></th>\n",
       "      <th></th>\n",
       "      <th></th>\n",
       "    </tr>\n",
       "  </thead>\n",
       "  <tbody>\n",
       "    <tr>\n",
       "      <th>Centro-Oeste</th>\n",
       "      <td>0.196489</td>\n",
       "      <td>0.641865</td>\n",
       "      <td>45.546241</td>\n",
       "      <td>0.930050</td>\n",
       "      <td>25.307833</td>\n",
       "      <td>1.454021</td>\n",
       "      <td>25.923500</td>\n",
       "    </tr>\n",
       "    <tr>\n",
       "      <th>Nordeste</th>\n",
       "      <td>0.233144</td>\n",
       "      <td>0.762445</td>\n",
       "      <td>35.116572</td>\n",
       "      <td>0.270951</td>\n",
       "      <td>30.957782</td>\n",
       "      <td>1.247637</td>\n",
       "      <td>31.411468</td>\n",
       "    </tr>\n",
       "    <tr>\n",
       "      <th>Norte</th>\n",
       "      <td>0.291545</td>\n",
       "      <td>0.595766</td>\n",
       "      <td>28.241856</td>\n",
       "      <td>0.342249</td>\n",
       "      <td>16.757510</td>\n",
       "      <td>2.104196</td>\n",
       "      <td>51.666878</td>\n",
       "    </tr>\n",
       "    <tr>\n",
       "      <th>Sudeste</th>\n",
       "      <td>0.379267</td>\n",
       "      <td>0.571080</td>\n",
       "      <td>46.213872</td>\n",
       "      <td>1.181394</td>\n",
       "      <td>25.886046</td>\n",
       "      <td>1.560661</td>\n",
       "      <td>24.207681</td>\n",
       "    </tr>\n",
       "    <tr>\n",
       "      <th>Sul</th>\n",
       "      <td>0.508333</td>\n",
       "      <td>0.616667</td>\n",
       "      <td>38.408333</td>\n",
       "      <td>0.316667</td>\n",
       "      <td>37.608333</td>\n",
       "      <td>1.150000</td>\n",
       "      <td>21.391667</td>\n",
       "    </tr>\n",
       "  </tbody>\n",
       "</table>\n",
       "</div>"
      ],
      "text/plain": [
       "Conectividade  Baixa conexao (Discada)  Boa conexao (Banda larga e discada)  \\\n",
       "Regiao                                                                        \n",
       "Centro-Oeste                  0.196489                             0.641865   \n",
       "Nordeste                      0.233144                             0.762445   \n",
       "Norte                         0.291545                             0.595766   \n",
       "Sudeste                       0.379267                             0.571080   \n",
       "Sul                           0.508333                             0.616667   \n",
       "\n",
       "Conectividade  Excelente conexao (3g4g e banda larga)  \\\n",
       "Regiao                                                  \n",
       "Centro-Oeste                                45.546241   \n",
       "Nordeste                                    35.116572   \n",
       "Norte                                       28.241856   \n",
       "Sudeste                                     46.213872   \n",
       "Sul                                         38.408333   \n",
       "\n",
       "Conectividade  Excepcional conexao (todas)  Media conexao (Banda Larga)  \\\n",
       "Regiao                                                                    \n",
       "Centro-Oeste                      0.930050                    25.307833   \n",
       "Nordeste                          0.270951                    30.957782   \n",
       "Norte                             0.342249                    16.757510   \n",
       "Sudeste                           1.181394                    25.886046   \n",
       "Sul                               0.316667                    37.608333   \n",
       "\n",
       "Conectividade  Otima conexao (Discada e 3g4g)  Razoavel conexao (3G e 4G)  \n",
       "Regiao                                                                     \n",
       "Centro-Oeste                         1.454021                   25.923500  \n",
       "Nordeste                             1.247637                   31.411468  \n",
       "Norte                                2.104196                   51.666878  \n",
       "Sudeste                              1.560661                   24.207681  \n",
       "Sul                                  1.150000                   21.391667  "
      ]
     },
     "execution_count": 96,
     "metadata": {},
     "output_type": "execute_result"
    }
   ],
   "source": [
    "#conectividade x regiao\n",
    "cruzamento_2 = pd.crosstab(dados[\"Regiao\"], dados[\"Conectividade\"], normalize=\"index\") \n",
    "cruzamento_2*100"
   ]
  },
  {
   "cell_type": "code",
   "execution_count": 21,
   "metadata": {
    "collapsed": false
   },
   "outputs": [
    {
     "data": {
      "text/html": [
       "<div>\n",
       "<table border=\"1\" class=\"dataframe\">\n",
       "  <thead>\n",
       "    <tr style=\"text-align: right;\">\n",
       "      <th>Regiao</th>\n",
       "      <th>Centro-Oeste</th>\n",
       "      <th>Nordeste</th>\n",
       "      <th>Norte</th>\n",
       "      <th>Sudeste</th>\n",
       "      <th>Sul</th>\n",
       "    </tr>\n",
       "    <tr>\n",
       "      <th>Salario</th>\n",
       "      <th></th>\n",
       "      <th></th>\n",
       "      <th></th>\n",
       "      <th></th>\n",
       "      <th></th>\n",
       "    </tr>\n",
       "  </thead>\n",
       "  <tbody>\n",
       "    <tr>\n",
       "      <th>sem rendimento</th>\n",
       "      <td>20.543807</td>\n",
       "      <td>9.365559</td>\n",
       "      <td>5.438066</td>\n",
       "      <td>46.223565</td>\n",
       "      <td>18.429003</td>\n",
       "    </tr>\n",
       "    <tr>\n",
       "      <th>1/4 do salario minimo</th>\n",
       "      <td>5.340224</td>\n",
       "      <td>50.645995</td>\n",
       "      <td>18.992248</td>\n",
       "      <td>18.776916</td>\n",
       "      <td>6.244617</td>\n",
       "    </tr>\n",
       "    <tr>\n",
       "      <th>entre 1/2 e 1/4 do salario minimo</th>\n",
       "      <td>8.111853</td>\n",
       "      <td>39.387832</td>\n",
       "      <td>18.692531</td>\n",
       "      <td>25.771508</td>\n",
       "      <td>8.036277</td>\n",
       "    </tr>\n",
       "    <tr>\n",
       "      <th>mais de 1/2 salario minimo</th>\n",
       "      <td>10.118148</td>\n",
       "      <td>29.178565</td>\n",
       "      <td>13.690576</td>\n",
       "      <td>32.566213</td>\n",
       "      <td>14.446498</td>\n",
       "    </tr>\n",
       "    <tr>\n",
       "      <th>entre 1 e 2 salarios minimos</th>\n",
       "      <td>12.153389</td>\n",
       "      <td>18.464093</td>\n",
       "      <td>10.241055</td>\n",
       "      <td>37.602536</td>\n",
       "      <td>21.538926</td>\n",
       "    </tr>\n",
       "    <tr>\n",
       "      <th>entre 2 e 3 salarios minimos</th>\n",
       "      <td>13.087622</td>\n",
       "      <td>14.742698</td>\n",
       "      <td>9.165508</td>\n",
       "      <td>38.358832</td>\n",
       "      <td>24.645341</td>\n",
       "    </tr>\n",
       "    <tr>\n",
       "      <th>entre 3 e 5 salarios minimos</th>\n",
       "      <td>13.670614</td>\n",
       "      <td>15.984930</td>\n",
       "      <td>8.449946</td>\n",
       "      <td>37.818443</td>\n",
       "      <td>24.076067</td>\n",
       "    </tr>\n",
       "    <tr>\n",
       "      <th>mais de 5 salarios minimos</th>\n",
       "      <td>16.641250</td>\n",
       "      <td>13.438811</td>\n",
       "      <td>6.404880</td>\n",
       "      <td>40.983607</td>\n",
       "      <td>22.531453</td>\n",
       "    </tr>\n",
       "  </tbody>\n",
       "</table>\n",
       "</div>"
      ],
      "text/plain": [
       "Regiao                             Centro-Oeste   Nordeste      Norte  \\\n",
       "Salario                                                                 \n",
       "sem rendimento                        20.543807   9.365559   5.438066   \n",
       "1/4 do salario minimo                  5.340224  50.645995  18.992248   \n",
       "entre 1/2 e 1/4 do salario minimo      8.111853  39.387832  18.692531   \n",
       "mais de 1/2 salario minimo            10.118148  29.178565  13.690576   \n",
       "entre 1 e 2 salarios minimos          12.153389  18.464093  10.241055   \n",
       "entre 2 e 3 salarios minimos          13.087622  14.742698   9.165508   \n",
       "entre 3 e 5 salarios minimos          13.670614  15.984930   8.449946   \n",
       "mais de 5 salarios minimos            16.641250  13.438811   6.404880   \n",
       "\n",
       "Regiao                               Sudeste        Sul  \n",
       "Salario                                                  \n",
       "sem rendimento                     46.223565  18.429003  \n",
       "1/4 do salario minimo              18.776916   6.244617  \n",
       "entre 1/2 e 1/4 do salario minimo  25.771508   8.036277  \n",
       "mais de 1/2 salario minimo         32.566213  14.446498  \n",
       "entre 1 e 2 salarios minimos       37.602536  21.538926  \n",
       "entre 2 e 3 salarios minimos       38.358832  24.645341  \n",
       "entre 3 e 5 salarios minimos       37.818443  24.076067  \n",
       "mais de 5 salarios minimos         40.983607  22.531453  "
      ]
     },
     "execution_count": 21,
     "metadata": {},
     "output_type": "execute_result"
    }
   ],
   "source": [
    "#salario x regiao\n",
    "cruzamento_1 = pd.crosstab( renomear[\"Salario\"], renomear[\"Regiao\"],normalize=\"index\") \n",
    "cruzamento_1*100"
   ]
  },
  {
   "cell_type": "code",
   "execution_count": 99,
   "metadata": {
    "collapsed": false
   },
   "outputs": [
    {
     "data": {
      "text/html": [
       "<div>\n",
       "<table border=\"1\" class=\"dataframe\">\n",
       "  <thead>\n",
       "    <tr style=\"text-align: right;\">\n",
       "      <th>Conectividade</th>\n",
       "      <th>Baixa conexao (Discada)</th>\n",
       "      <th>Boa conexao (Banda larga e discada)</th>\n",
       "      <th>Excelente conexao (3g4g e banda larga)</th>\n",
       "      <th>Excepcional conexao (todas)</th>\n",
       "      <th>Media conexao (Banda Larga)</th>\n",
       "      <th>Otima conexao (Discada e 3g4g)</th>\n",
       "      <th>Razoavel conexao (3G e 4G)</th>\n",
       "    </tr>\n",
       "    <tr>\n",
       "      <th>Salario</th>\n",
       "      <th></th>\n",
       "      <th></th>\n",
       "      <th></th>\n",
       "      <th></th>\n",
       "      <th></th>\n",
       "      <th></th>\n",
       "      <th></th>\n",
       "    </tr>\n",
       "  </thead>\n",
       "  <tbody>\n",
       "    <tr>\n",
       "      <th>sem rendimento</th>\n",
       "      <td>0.604230</td>\n",
       "      <td>0.604230</td>\n",
       "      <td>41.087613</td>\n",
       "      <td>2.416918</td>\n",
       "      <td>23.262840</td>\n",
       "      <td>1.812689</td>\n",
       "      <td>30.211480</td>\n",
       "    </tr>\n",
       "    <tr>\n",
       "      <th>1/4 do salario minimo</th>\n",
       "      <td>0.430663</td>\n",
       "      <td>0.301464</td>\n",
       "      <td>17.614126</td>\n",
       "      <td>0.258398</td>\n",
       "      <td>22.782084</td>\n",
       "      <td>1.335056</td>\n",
       "      <td>57.278208</td>\n",
       "    </tr>\n",
       "    <tr>\n",
       "      <th>entre 1/2 e 1/4 do salario minimo</th>\n",
       "      <td>0.314901</td>\n",
       "      <td>0.541630</td>\n",
       "      <td>23.227107</td>\n",
       "      <td>0.314901</td>\n",
       "      <td>25.028341</td>\n",
       "      <td>1.108452</td>\n",
       "      <td>49.464668</td>\n",
       "    </tr>\n",
       "    <tr>\n",
       "      <th>mais de 1/2 salario minimo</th>\n",
       "      <td>0.341564</td>\n",
       "      <td>0.615936</td>\n",
       "      <td>32.711798</td>\n",
       "      <td>0.464752</td>\n",
       "      <td>27.319559</td>\n",
       "      <td>1.674226</td>\n",
       "      <td>36.872165</td>\n",
       "    </tr>\n",
       "    <tr>\n",
       "      <th>entre 1 e 2 salarios minimos</th>\n",
       "      <td>0.347240</td>\n",
       "      <td>0.714609</td>\n",
       "      <td>41.714056</td>\n",
       "      <td>0.825323</td>\n",
       "      <td>29.802224</td>\n",
       "      <td>1.529868</td>\n",
       "      <td>25.066680</td>\n",
       "    </tr>\n",
       "    <tr>\n",
       "      <th>entre 2 e 3 salarios minimos</th>\n",
       "      <td>0.375522</td>\n",
       "      <td>0.751043</td>\n",
       "      <td>49.791377</td>\n",
       "      <td>0.931850</td>\n",
       "      <td>30.514604</td>\n",
       "      <td>1.752434</td>\n",
       "      <td>15.883171</td>\n",
       "    </tr>\n",
       "    <tr>\n",
       "      <th>entre 3 e 5 salarios minimos</th>\n",
       "      <td>0.340868</td>\n",
       "      <td>0.663796</td>\n",
       "      <td>55.077144</td>\n",
       "      <td>1.004665</td>\n",
       "      <td>30.265518</td>\n",
       "      <td>1.255831</td>\n",
       "      <td>11.392178</td>\n",
       "    </tr>\n",
       "    <tr>\n",
       "      <th>mais de 5 salarios minimos</th>\n",
       "      <td>0.190621</td>\n",
       "      <td>0.514678</td>\n",
       "      <td>63.248189</td>\n",
       "      <td>0.781548</td>\n",
       "      <td>25.600457</td>\n",
       "      <td>0.895921</td>\n",
       "      <td>8.768586</td>\n",
       "    </tr>\n",
       "  </tbody>\n",
       "</table>\n",
       "</div>"
      ],
      "text/plain": [
       "Conectividade                      Baixa conexao (Discada)  \\\n",
       "Salario                                                      \n",
       "sem rendimento                                    0.604230   \n",
       "1/4 do salario minimo                             0.430663   \n",
       "entre 1/2 e 1/4 do salario minimo                 0.314901   \n",
       "mais de 1/2 salario minimo                        0.341564   \n",
       "entre 1 e 2 salarios minimos                      0.347240   \n",
       "entre 2 e 3 salarios minimos                      0.375522   \n",
       "entre 3 e 5 salarios minimos                      0.340868   \n",
       "mais de 5 salarios minimos                        0.190621   \n",
       "\n",
       "Conectividade                      Boa conexao (Banda larga e discada)  \\\n",
       "Salario                                                                  \n",
       "sem rendimento                                                0.604230   \n",
       "1/4 do salario minimo                                         0.301464   \n",
       "entre 1/2 e 1/4 do salario minimo                             0.541630   \n",
       "mais de 1/2 salario minimo                                    0.615936   \n",
       "entre 1 e 2 salarios minimos                                  0.714609   \n",
       "entre 2 e 3 salarios minimos                                  0.751043   \n",
       "entre 3 e 5 salarios minimos                                  0.663796   \n",
       "mais de 5 salarios minimos                                    0.514678   \n",
       "\n",
       "Conectividade                      Excelente conexao (3g4g e banda larga)  \\\n",
       "Salario                                                                     \n",
       "sem rendimento                                                  41.087613   \n",
       "1/4 do salario minimo                                           17.614126   \n",
       "entre 1/2 e 1/4 do salario minimo                               23.227107   \n",
       "mais de 1/2 salario minimo                                      32.711798   \n",
       "entre 1 e 2 salarios minimos                                    41.714056   \n",
       "entre 2 e 3 salarios minimos                                    49.791377   \n",
       "entre 3 e 5 salarios minimos                                    55.077144   \n",
       "mais de 5 salarios minimos                                      63.248189   \n",
       "\n",
       "Conectividade                      Excepcional conexao (todas)  \\\n",
       "Salario                                                          \n",
       "sem rendimento                                        2.416918   \n",
       "1/4 do salario minimo                                 0.258398   \n",
       "entre 1/2 e 1/4 do salario minimo                     0.314901   \n",
       "mais de 1/2 salario minimo                            0.464752   \n",
       "entre 1 e 2 salarios minimos                          0.825323   \n",
       "entre 2 e 3 salarios minimos                          0.931850   \n",
       "entre 3 e 5 salarios minimos                          1.004665   \n",
       "mais de 5 salarios minimos                            0.781548   \n",
       "\n",
       "Conectividade                      Media conexao (Banda Larga)  \\\n",
       "Salario                                                          \n",
       "sem rendimento                                       23.262840   \n",
       "1/4 do salario minimo                                22.782084   \n",
       "entre 1/2 e 1/4 do salario minimo                    25.028341   \n",
       "mais de 1/2 salario minimo                           27.319559   \n",
       "entre 1 e 2 salarios minimos                         29.802224   \n",
       "entre 2 e 3 salarios minimos                         30.514604   \n",
       "entre 3 e 5 salarios minimos                         30.265518   \n",
       "mais de 5 salarios minimos                           25.600457   \n",
       "\n",
       "Conectividade                      Otima conexao (Discada e 3g4g)  \\\n",
       "Salario                                                             \n",
       "sem rendimento                                           1.812689   \n",
       "1/4 do salario minimo                                    1.335056   \n",
       "entre 1/2 e 1/4 do salario minimo                        1.108452   \n",
       "mais de 1/2 salario minimo                               1.674226   \n",
       "entre 1 e 2 salarios minimos                             1.529868   \n",
       "entre 2 e 3 salarios minimos                             1.752434   \n",
       "entre 3 e 5 salarios minimos                             1.255831   \n",
       "mais de 5 salarios minimos                               0.895921   \n",
       "\n",
       "Conectividade                      Razoavel conexao (3G e 4G)  \n",
       "Salario                                                        \n",
       "sem rendimento                                      30.211480  \n",
       "1/4 do salario minimo                               57.278208  \n",
       "entre 1/2 e 1/4 do salario minimo                   49.464668  \n",
       "mais de 1/2 salario minimo                          36.872165  \n",
       "entre 1 e 2 salarios minimos                        25.066680  \n",
       "entre 2 e 3 salarios minimos                        15.883171  \n",
       "entre 3 e 5 salarios minimos                        11.392178  \n",
       "mais de 5 salarios minimos                           8.768586  "
      ]
     },
     "execution_count": 99,
     "metadata": {},
     "output_type": "execute_result"
    }
   ],
   "source": [
    "#salario x conectividade\n",
    "cruzamento = pd.crosstab(renomear[\"Salario\"], renomear[\"Conectividade\"], normalize=\"index\") \n",
    "    \n",
    "cruzamento*100\n"
   ]
  },
  {
   "cell_type": "code",
   "execution_count": null,
   "metadata": {
    "collapsed": true
   },
   "outputs": [],
   "source": []
  },
  {
   "cell_type": "code",
   "execution_count": 23,
   "metadata": {
    "collapsed": false
   },
   "outputs": [],
   "source": [
    "#COONECTIVIDADE - REGIAO"
   ]
  },
  {
   "cell_type": "code",
   "execution_count": 100,
   "metadata": {
    "collapsed": false
   },
   "outputs": [
    {
     "data": {
      "text/plain": [
       "<matplotlib.axes._subplots.AxesSubplot at 0x2b98e3ed278>"
      ]
     },
     "execution_count": 100,
     "metadata": {},
     "output_type": "execute_result"
    },
    {
     "data": {
      "image/png": "[encoded data removed]",
      "text/plain": [
       "<matplotlib.figure.Figure at 0x2b98eddacf8>"
      ]
     },
     "metadata": {},
     "output_type": "display_data"
    },
    {
     "data": {
      "image/png": "[encoded data removed]",
      "text/plain": [
       "<matplotlib.figure.Figure at 0x2b98edda6a0>"
      ]
     },
     "metadata": {},
     "output_type": "display_data"
    },
    {
     "data": {
      "image/png": "[encoded data removed]",
      "text/plain": [
       "<matplotlib.figure.Figure at 0x2b98ebd5cf8>"
      ]
     },
     "metadata": {},
     "output_type": "display_data"
    }
   ],
   "source": [
    "###############################################################IMPORT######################\n",
    "cruzamento_1.plot(kind=\"bar\", figsize = (20,10))\n",
    "cruzamento_2.plot(kind=\"bar\",figsize = (20,10))\n",
    "cruzamento.plot(kind=\"bar\",figsize = (20,10))\n",
    "\n",
    "#da para perceber com a tabela que a partir de quando a pessoa ganha mais que 0.5 salario minimo \n",
    "#seu investimento com a conectividade aumenta e passa de separadamente sair de apenas 1 tipo de conectividade para mais que um \n",
    "#o que mais se destaca é o de banda larga e 3g4g (custo mais alto) que cresce cerca de 10\"pontos\" a mais que comparado \n",
    "#a faixa salarial anterior, porem a opcao por apenas 1 apesar de decrescer bastante ainda é bem alta \n",
    "#ja quando a populacao tem acesso a mais de 1(ate 2)salarios e entre 2 e 3 é notavel grandes saltos de \"conectividade\" porem a \n",
    "#opcao apenas pela banda larga continua sendo \"viavel\" pelo que demonstra os dados"
   ]
  },
  {
   "cell_type": "code",
   "execution_count": 101,
   "metadata": {
    "collapsed": false
   },
   "outputs": [],
   "source": [
    "#x = cruzamento_3 * 100\n",
    "#x.describe()\n",
    "\n",
    "#cruzamento_3.plot(kind='pie', colors=('red','blue','green','yellow', 'salmon', 'orange', 'grey', 'white', 'black'),subplots = True, figsize = (5,10),layout=(2,1), autopct=\"%0.2f\",legend=False)\n",
    "#cruzamento da faixa salarial com o nivel de conectividade\n",
    "\n",
    "\n"
   ]
  },
  {
   "cell_type": "code",
   "execution_count": 112,
   "metadata": {
    "collapsed": true
   },
   "outputs": [],
   "source": [
    "#plot = cruzamento_3.T.plot(kind='bar',color=('red','blue','green','yellow', 'salmon', 'orange', 'grey', 'white', 'black'), stacked=True,title='Banda Larga x salario')\n",
    "#Para legenda ficar fora do gráfico\n",
    "#ax = plt.subplot(111)\n",
    "#box = ax.get_position()\n",
    "#ax.set_position([box.x0, box.y0, box.width * 0.8, box.height])\n",
    "#ax.legend(loc='center left', bbox_to_anchor=(1, 0.5))\n"
   ]
  },
  {
   "cell_type": "code",
   "execution_count": 28,
   "metadata": {
    "collapsed": false
   },
   "outputs": [],
   "source": [
    "#comparando ambos --- \n",
    "#conexao apenas 3g4g é mais escolhida em faixas de salario menor se comparado a banda larga, que é muito alta e relevante\n",
    "#as faixas salariais mais elevadas, \n",
    "\n",
    "\n",
    "\n",
    "\n",
    "\n",
    "#cruzamento_3 * 100\n",
    "#cruzamento_3.plot\n",
    "\n",
    "#cruzamento_4 * 100\n",
    "#cruzamento_4.plot(kind='pie', colors=('red','blue','green','yellow', 'salmon', 'orange', 'grey', 'white', 'black'),subplots = True, figsize = (25,12),layout=(1,2), autopct=\"%0.2f\",legend=False, title = \"Internet 3G,4G por salario\")\n",
    "#plt.plot()\n"
   ]
  },
  {
   "cell_type": "code",
   "execution_count": 29,
   "metadata": {
    "collapsed": true
   },
   "outputs": [],
   "source": [
    "cruzamento_3 = pd.crosstab(renomear[\"Salario\"], renomear[\"Internet via banda larga\"], normalize=\"index\")\n",
    "cruzamento_4 = pd.crosstab(renomear[\"Salario\"], renomear[\"Internet via 3G e 4G\"], normalize=\"index\")\n",
    "\n",
    "#cruzamento da faixa salarial com relacao a Internet via banda larga, o que demonstra que quanto maior poder aquisitivo \n",
    "#maior o acesso a banda larga "
   ]
  },
  {
   "cell_type": "code",
   "execution_count": 111,
   "metadata": {
    "collapsed": false
   },
   "outputs": [
    {
     "data": {
      "text/plain": [
       "<matplotlib.axes._subplots.AxesSubplot at 0x2b98d80eef0>"
      ]
     },
     "execution_count": 111,
     "metadata": {},
     "output_type": "execute_result"
    },
    {
     "data": {
      "image/png": "[encoded data removed]",
      "text/plain": [
       "<matplotlib.figure.Figure at 0x2b98efd4b38>"
      ]
     },
     "metadata": {},
     "output_type": "display_data"
    }
   ],
   "source": [
    "(cruzamento_3[\"Sim\"]*100).plot(kind=\"pie\")"
   ]
  },
  {
   "cell_type": "code",
   "execution_count": 31,
   "metadata": {
    "collapsed": false
   },
   "outputs": [
    {
     "data": {
      "text/plain": [
       "<matplotlib.axes._subplots.AxesSubplot at 0x2b981fe4668>"
      ]
     },
     "execution_count": 31,
     "metadata": {},
     "output_type": "execute_result"
    },
    {
     "data": {
      "image/png": "[encoded data removed]",
      "text/plain": [
       "<matplotlib.figure.Figure at 0x2b9823377b8>"
      ]
     },
     "metadata": {},
     "output_type": "display_data"
    }
   ],
   "source": [
    "(cruzamento_4[\"Sim\"]*100).plot(kind=\"pie\")"
   ]
  },
  {
   "cell_type": "code",
   "execution_count": 32,
   "metadata": {
    "collapsed": false
   },
   "outputs": [
    {
     "data": {
      "text/plain": [
       "Excelente conexao (3g4g e banda larga)    26488\n",
       "Razoavel conexao (3G e 4G)                19160\n",
       "Media conexao (Banda Larga)               18618\n",
       "Otima conexao (Discada e 3g4g)              971\n",
       "Excepcional conexao (todas)                 450\n",
       "Boa conexao (Banda larga e discada)         422\n",
       "Baixa conexao (Discada)                     223\n",
       "Name: Conectividade, dtype: int64"
      ]
     },
     "execution_count": 32,
     "metadata": {},
     "output_type": "execute_result"
    }
   ],
   "source": [
    "dados[\"Conectividade\"].value_counts()  "
   ]
  },
  {
   "cell_type": "markdown",
   "metadata": {
    "collapsed": false
   },
   "source": [
    "# Outras ideias\n",
    "\n",
    "Nota-se que por meio de toda essa análise de tabelas e gráficos que a internet 3G4G associada a banda larga vem sendo o conjunto mais escolhido pelos brasileiros segundo a PNAD 2015 \n"
   ]
  },
  {
   "cell_type": "code",
   "execution_count": 33,
   "metadata": {
    "collapsed": false
   },
   "outputs": [],
   "source": [
    "#plot = cruzamento_4.T.plot(kind='bar',color=('red','blue','green','yellow', 'salmon', 'orange', 'grey', 'white', 'black'), stacked=True,title='Internet 3g4g x salario')\n",
    "#Para legenda ficar fora do gráfico\n",
    "#ax = plt.subplot(111)\n",
    "#box = ax.get_position()\n",
    "#ax.set_position([box.x0, box.y0, box.width * 0.8, box.height])\n",
    "#ax.legend(loc='center left', bbox_to_anchor=(1, 0.5))"
   ]
  },
  {
   "cell_type": "code",
   "execution_count": 34,
   "metadata": {
    "collapsed": false
   },
   "outputs": [],
   "source": [
    "#f, axarr = plt.subplots(2,figsize=(9,12))\n",
    "#axarr[0].hist(cruzamento_3, bins=9)\n",
    "#axarr[0].set_title('Banda Larga x Salario')\n",
    "#axarr[0].set_xlabel('')\n",
    "#axarr[0].set_ylabel('')\n",
    "\n",
    "#axarr[1].hist(cruzamento_3, bins=9)\n",
    "#axarr[1].set_title('3g4g x Salario')\n",
    "#axarr[1].set_xlabel('')\n",
    "#axarr[1].set_ylabel('')\n",
    "\n",
    "#    axarr[2].hist(dados.RENDA, bins=15, normed=1, alpha=0.5)\n",
    "#   axarr[2].set_title('Histograma')\n",
    "#   axarr[2].set_xlabel('Renda')\n",
    "#   axarr[2].set_ylabel('Densidade')\n",
    "\n",
    "#plt.tight_layout(1)"
   ]
  },
  {
   "cell_type": "code",
   "execution_count": null,
   "metadata": {
    "collapsed": false
   },
   "outputs": [],
   "source": []
  },
  {
   "cell_type": "code",
   "execution_count": 35,
   "metadata": {
    "collapsed": true
   },
   "outputs": [],
   "source": [
    "renomear.to_csv(\"Resumo.csv\")                        #criando o arq no excel"
   ]
  },
  {
   "cell_type": "code",
   "execution_count": 36,
   "metadata": {
    "collapsed": false
   },
   "outputs": [],
   "source": [
    "#dados.V4622.describe()\n",
    "#dados.V4622.quantile"
   ]
  },
  {
   "cell_type": "markdown",
   "metadata": {},
   "source": [
    "___\n",
    "## Conclusão "
   ]
  },
  {
   "cell_type": "markdown",
   "metadata": {
    "collapsed": true
   },
   "source": [
    "Descreva aqui suas conclusões!"
   ]
  },
  {
   "cell_type": "code",
   "execution_count": null,
   "metadata": {
    "collapsed": true
   },
   "outputs": [],
   "source": []
  }
 ],
 "metadata": {
  "anaconda-cloud": {},
  "kernelspec": {
   "display_name": "Python 3",
   "language": "python",
   "name": "python3"
  },
  "language_info": {
   "codemirror_mode": {
    "name": "ipython",
    "version": 3
   },
   "file_extension": ".py",
   "mimetype": "text/x-python",
   "name": "python",
   "nbconvert_exporter": "python",
   "pygments_lexer": "ipython3",
   "version": "3.6.0"
  }
 },
 "nbformat": 4,
 "nbformat_minor": 1
}
